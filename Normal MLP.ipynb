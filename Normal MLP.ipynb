{
 "cells": [
  {
   "cell_type": "code",
   "execution_count": 313,
   "id": "3630eb84",
   "metadata": {},
   "outputs": [],
   "source": [
    "import os\n",
    "os.environ['TF_CPP_MIN_LOG_LEVEL'] = '2'\n",
    "import torch\n",
    "import torch.nn as nn\n",
    "from torch.nn import functional as F\n",
    "from itertools import groupby\n",
    "from operator import itemgetter\n",
    "import datetime\n",
    "import math\n",
    "import pandas as pd\n",
    "import numpy as np\n",
    "import pytz\n",
    "\n",
    "file1 = \"all_training_data_sorted.csv\"\n",
    "north = 'data_north_p.csv'\n",
    "east = 'data_east_p.csv'\n",
    "south = 'data_south_p.csv'\n",
    "west = 'data_west_p.csv'\n",
    "device = 'cuda'\n",
    "\n",
    "tz = pytz.timezone('Europe/Berlin')\n",
    "\n",
    "def convert_to_weeknumber_cossin(timestamp):\n",
    "    date = datetime.datetime.fromtimestamp(timestamp)\n",
    "    dt_local = date.astimezone(tz)\n",
    "    week_number = dt_local.isocalendar()[1]\n",
    "    sin_week = np.sin(2*np.pi*week_number/53).astype(np.float32)\n",
    "    cos_week = np.cos(2*np.pi*week_number/53).astype(np.float32)\n",
    "    return sin_week, cos_week\n",
    "\n",
    "def convert_to_hour_cossin(timestamp):\n",
    "    date = datetime.datetime.fromtimestamp(timestamp)\n",
    "    dt_local = date.astimezone(tz)\n",
    "    hour = dt_local.hour\n",
    "    sin_hour = np.sin(2*np.pi*hour/24).astype(np.float32)\n",
    "    cos_hour = np.cos(2*np.pi*hour/24).astype(np.float32)\n",
    "    return sin_hour, cos_hour\n",
    "\n",
    "\n",
    "def closest_timestamp(data, timestamp):\n",
    "    closest_timestamp = min(data.keys(), key=lambda t: abs(t - timestamp))\n",
    "    return data[closest_timestamp]\n",
    "\n",
    "def read_csv(file):\n",
    "    data = pd.read_csv(file)\n",
    "    for index, row in data.iterrows():\n",
    "        yield row['time'] / 1_000_000_000, row['tags'], row['min'], row['max'], row['mean'] \n",
    "\n",
    "def read_csv_meteostat(file):\n",
    "    data = pd.read_csv(file)\n",
    "    timestamp_dict = {}\n",
    "    for index, row in data.iterrows():\n",
    "        if not pd.isna(row['time']) and not pd.isna(row['pres']):\n",
    "            timestamp = row['time'] / 1_000_000_000\n",
    "            timestamp_dict[timestamp] = row['pres']                            \n",
    "    return timestamp_dict\n",
    "\n",
    "def group_column(file, north, east, south, west):\n",
    "    meteostat_data_north = read_csv_meteostat(north)\n",
    "    meteostat_data_east = read_csv_meteostat(east)\n",
    "    meteostat_data_south = read_csv_meteostat(south)\n",
    "    meteostat_data_west = read_csv_meteostat(west)\n",
    "    \n",
    "    for timestamp, values in groupby(read_csv(file), key=itemgetter(0)):\n",
    "        pres_value_north = closest_timestamp(meteostat_data_north, timestamp)\n",
    "        pres_value_east = closest_timestamp(meteostat_data_east, timestamp)\n",
    "        pres_value_south = closest_timestamp(meteostat_data_south, timestamp)\n",
    "        pres_value_west = closest_timestamp(meteostat_data_west, timestamp)\n",
    "        \n",
    "        d = {}\n",
    "        for (_, topic, value_min, value_max, value_mean) in values:\n",
    "            if not math.isnan(value_min) and not math.isnan(value_max) and not math.isnan(value_mean):\n",
    "                d[topic] = {'min': value_min, 'max': value_max, 'mean': value_mean}\n",
    "        \n",
    "        try:\n",
    "            week_values = convert_to_weeknumber_cossin(timestamp)\n",
    "            hour_values = convert_to_hour_cossin(timestamp)\n",
    "            yield (\n",
    "                (d[\"topic=Pfullingen/temperature\"]['mean'] - 20) / 35, \n",
    "                (d[\"topic=Pfullingen/hourlyrain\"]['mean']) / 10, \n",
    "                (d[\"topic=Pfullingen/windspeed\"]['mean']- 5) / 10,\n",
    "                (d[\"topic=Pfullingen/solarradiation\"]['max'] - 500) / 1000,\n",
    "                (d[\"topic=Pfullingen/solarradiation\"]['mean'] - 500) / 1000, \n",
    "                (d[\"topic=Pfullingen/pressure\"]['mean'] - 500) / 1000,\n",
    "                (d[\"topic=Pfullingen/winddir\"]['mean'] - 180) / 360,\n",
    "                (d[\"topic=Pfullingen/humidity\"]['mean'] - 50) / 100,\n",
    "                hour_values[0],\n",
    "                hour_values[1],\n",
    "                week_values[0],\n",
    "                week_values[1],\n",
    "                float((pres_value_north - 500) / 1000),\n",
    "                float((pres_value_east - 500) / 1000),\n",
    "                float((pres_value_south - 500) / 1000),\n",
    "                float((pres_value_west - 500) / 1000)\n",
    "                \n",
    "            )\n",
    "        except KeyError:\n",
    "            pass"
   ]
  },
  {
   "cell_type": "code",
   "execution_count": 505,
   "id": "8da6c135",
   "metadata": {},
   "outputs": [],
   "source": [
    "imported_data_raw = list(group_column(file1, north, east, south, west))\n",
    "imported_data_backup = torch.tensor(imported_data_raw)"
   ]
  },
  {
   "cell_type": "code",
   "execution_count": 530,
   "id": "4c08696e",
   "metadata": {},
   "outputs": [],
   "source": [
    "imported_data = imported_data_backup.clone()"
   ]
  },
  {
   "cell_type": "code",
   "execution_count": 531,
   "id": "ee12b846",
   "metadata": {},
   "outputs": [],
   "source": [
    "imported_data[:, 12] -= imported_data[:, 5]\n",
    "imported_data[:, 13] -= imported_data[:, 5]\n",
    "imported_data[:, 14] -= imported_data[:, 5]\n",
    "imported_data[:, 15] -= imported_data[:, 5]\n",
    "\n",
    "imported_data[:, 12] *= 45\n",
    "imported_data[:, 13] *= 45\n",
    "imported_data[:, 14] *= 45\n",
    "imported_data[:, 15] *= 45"
   ]
  },
  {
   "cell_type": "code",
   "execution_count": 537,
   "id": "baa1891e",
   "metadata": {},
   "outputs": [
    {
     "data": {
      "text/plain": [
       "tensor(-0.7129)"
      ]
     },
     "execution_count": 537,
     "metadata": {},
     "output_type": "execute_result"
    }
   ],
   "source": [
    "imported_data[:, 15].min()"
   ]
  },
  {
   "cell_type": "code",
   "execution_count": 538,
   "id": "0561fbba",
   "metadata": {},
   "outputs": [
    {
     "data": {
      "text/plain": [
       "torch.Size([18664, 16])"
      ]
     },
     "execution_count": 538,
     "metadata": {},
     "output_type": "execute_result"
    }
   ],
   "source": [
    "imported_data.shape"
   ]
  },
  {
   "cell_type": "code",
   "execution_count": 603,
   "id": "0936b7b6",
   "metadata": {},
   "outputs": [],
   "source": [
    "input_hours = 72\n",
    "features = 16"
   ]
  },
  {
   "cell_type": "code",
   "execution_count": 604,
   "id": "281adf80",
   "metadata": {},
   "outputs": [],
   "source": [
    "def create_sequences(data, input_hours, features):\n",
    "    xs = []\n",
    "    ys = []\n",
    "\n",
    "    for i in range(data.size(0)-input_hours-1):\n",
    "        x = data[i:(i+input_hours)]\n",
    "        y = data[i+input_hours]\n",
    "        xs.append(x)\n",
    "        ys.append(y)\n",
    "\n",
    "    return torch.stack(xs).view(-1,input_hours*features), torch.stack(ys)\n"
   ]
  },
  {
   "cell_type": "code",
   "execution_count": 605,
   "id": "f7e4a6ee",
   "metadata": {},
   "outputs": [],
   "source": [
    "X, y = create_sequences(imported_data, input_hours, features)"
   ]
  },
  {
   "cell_type": "code",
   "execution_count": 606,
   "id": "1df3ff2c",
   "metadata": {},
   "outputs": [
    {
     "name": "stdout",
     "output_type": "stream",
     "text": [
      "X.shape:  torch.Size([18591, 1152])\n",
      "y.shape:  torch.Size([18591, 16])\n"
     ]
    }
   ],
   "source": [
    "print(\"X.shape: \",X.shape)\n",
    "print(\"y.shape: \",y.shape)"
   ]
  },
  {
   "cell_type": "code",
   "execution_count": 607,
   "id": "5b274e62",
   "metadata": {},
   "outputs": [],
   "source": [
    "from torch.utils.data import random_split\n",
    "from torch.utils.data import TensorDataset, DataLoader\n",
    "\n",
    "# Calculate split sizes\n",
    "num_samples = len(X)\n",
    "num_train = round(num_samples * 0.8)\n",
    "num_val = num_samples - num_train\n",
    "\n",
    "# Create data sets\n",
    "train_data, val_data = random_split(TensorDataset(X, y), [num_train, num_val])\n",
    "\n",
    "batch_size = 32\n",
    "\n",
    "# Create DataLoaders\n",
    "train_loader = DataLoader(train_data, batch_size=batch_size, shuffle=False, drop_last=True)\n",
    "val_loader = DataLoader(val_data, batch_size=batch_size, shuffle=False, drop_last=True)"
   ]
  },
  {
   "cell_type": "code",
   "execution_count": 648,
   "id": "d0fefdec",
   "metadata": {},
   "outputs": [],
   "source": [
    "class model_linear(nn.Module):\n",
    "    def __init__(self, input_dim, hidden_dim, output_dim, dropout_rate=0.5):\n",
    "        super().__init__()\n",
    "        self.layer1 = nn.Linear(input_dim, hidden_dim*2, bias=True)\n",
    "        self.norm1 = nn.BatchNorm1d(hidden_dim*2)\n",
    "        self.dropout1 = nn.Dropout(dropout_rate)\n",
    "        self.layer2 = nn.Linear(hidden_dim*2, hidden_dim, bias=True)\n",
    "        self.norm2 = nn.BatchNorm1d(hidden_dim)\n",
    "        self.layer3 = nn.Linear(hidden_dim, output_dim)\n",
    "\n",
    "    def forward(self, x):\n",
    "        x = self.layer1(x)\n",
    "        x = self.dropout1(x)\n",
    "        x = self.norm1(x)\n",
    "        x = F.relu(x)\n",
    "        x = self.layer2(x)\n",
    "        x = self.norm2(x)\n",
    "        x = F.relu(x)\n",
    "        x = self.layer3(x)\n",
    "        return x\n",
    "\n"
   ]
  },
  {
   "cell_type": "code",
   "execution_count": 649,
   "id": "73d1afa4",
   "metadata": {},
   "outputs": [],
   "source": [
    "input_dim = features*input_hours\n",
    "hidden_dim = 32\n",
    "output_dim = features\n",
    "\n",
    "model = model_linear(input_dim, hidden_dim, output_dim).to(device)"
   ]
  },
  {
   "cell_type": "code",
   "execution_count": 650,
   "id": "42bb7bfb",
   "metadata": {},
   "outputs": [
    {
     "name": "stdout",
     "output_type": "stream",
     "text": [
      "torch.Size([32, 1152]) torch.Size([32, 16])\n"
     ]
    }
   ],
   "source": [
    "for inputs, labels in train_loader:\n",
    "    print(inputs.shape, labels.shape)\n",
    "    break"
   ]
  },
  {
   "cell_type": "code",
   "execution_count": null,
   "id": "ec75f21f",
   "metadata": {},
   "outputs": [],
   "source": [
    "num_epochs = 30\n",
    "criterion = nn.MSELoss()#L1Loss()\n",
    "optimizer = optim.AdamW(model.parameters(), lr=1e-4)\n",
    "scheduler = torch.optim.lr_scheduler.StepLR(optimizer, step_size=int(num_epochs*.6), gamma=0.1)\n",
    "model.dropout1.p = 0.2\n",
    "\n",
    "for epoch in range(num_epochs):\n",
    "    model.train()\n",
    "    train_losses = []\n",
    "    for inputs, labels in train_loader:\n",
    "        inputs = inputs.view(batch_size, input_hours * features)\n",
    "        inputs, labels = inputs.to(device), labels.to(device)\n",
    "        optimizer.zero_grad()\n",
    "        outputs = model(inputs)\n",
    "        loss = criterion(outputs, labels)\n",
    "        loss.backward()\n",
    "\n",
    "        train_losses.append(loss.item())\n",
    "        optimizer.step()\n",
    "\n",
    "    avg_train_loss = sum(train_losses) / len(train_losses)\n",
    "    scheduler.step()\n",
    "    model.eval()\n",
    "    with torch.no_grad():\n",
    "        val_losses = []\n",
    "        for inputs, labels in val_loader:\n",
    "            inputs = inputs.view(batch_size, input_hours * features)\n",
    "            inputs, labels = inputs.to(device), labels.to(device)\n",
    "            outputs = model(inputs)\n",
    "            val_loss = criterion(outputs, labels)\n",
    "            val_losses.append(val_loss.item())\n",
    "\n",
    "    avg_val_loss = sum(val_losses) / len(val_losses)\n",
    "    print('Epoch [{}/{}], Train Loss: {:.4f}, Validation Loss: {:.4f}'.format(epoch+1, num_epochs, avg_train_loss, avg_val_loss))\n",
    "    #best so far 0.0029 MSELoss\n",
    "    "
   ]
  },
  {
   "cell_type": "code",
   "execution_count": 678,
   "id": "101be94a",
   "metadata": {},
   "outputs": [],
   "source": [
    "file1_forecast = \"test_sorted.csv\"\n",
    "north_forecast = 'data_north_p_test_latest.csv'\n",
    "east_forecast = 'data_east_p_test_latest.csv'\n",
    "south_forecast = 'data_south_p_test_latest.csv'\n",
    "west_forecast = 'data_west_p_test_latest.csv'"
   ]
  },
  {
   "cell_type": "code",
   "execution_count": 693,
   "id": "88e9e54e",
   "metadata": {},
   "outputs": [],
   "source": [
    "file1_forecast = \"test_before_coldfront_sorted.csv\"\n",
    "north_forecast = 'data_north_p_test_latest_before_coldfront.csv'\n",
    "east_forecast = 'data_east_p_test_latest_before_coldfront.csv'\n",
    "south_forecast = 'data_south_p_test_latest_before_coldfront.csv'\n",
    "west_forecast = 'data_west_p_test_latest_before_coldfront.csv'"
   ]
  },
  {
   "cell_type": "code",
   "execution_count": 694,
   "id": "7109027a",
   "metadata": {},
   "outputs": [
    {
     "data": {
      "text/plain": [
       "torch.Size([1, 1152])"
      ]
     },
     "execution_count": 694,
     "metadata": {},
     "output_type": "execute_result"
    }
   ],
   "source": [
    "test_data_raw = list(group_column(file1_forecast, north_forecast, east_forecast, south_forecast, west_forecast))\n",
    "test_data = torch.tensor(test_data_raw, device=device)\n",
    "eval_data = test_data[-input_hours:,:].view(1,-1)\n",
    "eval_data.shape"
   ]
  },
  {
   "cell_type": "code",
   "execution_count": 695,
   "id": "7b0135c0",
   "metadata": {},
   "outputs": [],
   "source": [
    "import torch\n",
    "\n",
    "def generate_data(model, initial_data, steps):\n",
    "    model.eval()  # Ensure the model is in evaluation mode\n",
    "    generated_data = []\n",
    "\n",
    "    current_input = initial_data\n",
    "\n",
    "    with torch.no_grad():  # We don't need gradients for this\n",
    "        for _ in range(steps):\n",
    "            output = model(current_input)\n",
    "\n",
    "            # Add the output to our list of generated data\n",
    "            generated_data.append(output)\n",
    "\n",
    "            # Now we need to append the output to the input data\n",
    "            # We will remove the first output dimension from the input \n",
    "            # and append the new output to the end\n",
    "            current_input = torch.cat((current_input[:, output.shape[1]:], output), dim=1)\n",
    "\n",
    "    return torch.stack(generated_data).view(steps,features)"
   ]
  },
  {
   "cell_type": "code",
   "execution_count": 700,
   "id": "d394edee",
   "metadata": {},
   "outputs": [
    {
     "data": {
      "text/plain": [
       "torch.Size([24, 16])"
      ]
     },
     "execution_count": 700,
     "metadata": {},
     "output_type": "execute_result"
    }
   ],
   "source": [
    "forecast = generate_data(model, eval_data, steps=24)\n",
    "forecast.shape"
   ]
  },
  {
   "cell_type": "code",
   "execution_count": 701,
   "id": "f881a09a",
   "metadata": {},
   "outputs": [],
   "source": [
    "input_temperature = eval_data.view(input_hours,features)[:,0]*35+20\n",
    "temperature = forecast[:,0]*35+20\n",
    "sun_max = forecast[:,3]*1000+500\n",
    "sun_mean = forecast[:,4]*1000+500\n",
    "sine = forecast[:,8]\n",
    "pres_diff = forecast[:,12]\n",
    "forecast_temperature = temperature.cpu().detach().numpy()\n",
    "input_temperature = input_temperature.cpu().detach().numpy()\n",
    "sine = sine.cpu().detach().numpy()\n",
    "pres_diff = pres_diff.cpu().detach().numpy()\n",
    "sun_max = sun_max.cpu().detach().numpy()\n",
    "sun_mean = sun_mean.cpu().detach().numpy()"
   ]
  },
  {
   "cell_type": "code",
   "execution_count": 702,
   "id": "795652f5",
   "metadata": {},
   "outputs": [
    {
     "data": {
      "text/plain": [
       "Text(0, 0.5, 'Temperature')"
      ]
     },
     "execution_count": 702,
     "metadata": {},
     "output_type": "execute_result"
    },
    {
     "data": {
      "image/png": "[encoded data removed]",
      "text/plain": [
       "<Figure size 640x480 with 1 Axes>"
      ]
     },
     "metadata": {},
     "output_type": "display_data"
    }
   ],
   "source": [
    "import matplotlib.pyplot as plt\n",
    "# Generate x-axis values for the plots\n",
    "x_input = range(len(input_temperature))\n",
    "x_forecast = range(len(input_temperature), len(input_temperature) + len(forecast_temperature))\n",
    "plt.plot(x_input, input_temperature, color='blue', label='Input Temperature')\n",
    "plt.plot(x_forecast, forecast_temperature, color='red', label='Forecast Temperature')\n",
    "plt.plot(x_forecast, sine, color='red', label='sine')\n",
    "#plt.plot(x_forecast, sun_max, color='red')\n",
    "#plt.plot(x_forecast, sun_mean, color='red')\n",
    "\n",
    "# Set labels and title\n",
    "plt.xlabel('Time')\n",
    "plt.ylabel('Temperature')"
   ]
  },
  {
   "cell_type": "code",
   "execution_count": 699,
   "id": "1a1fb9d7",
   "metadata": {},
   "outputs": [
    {
     "data": {
      "text/plain": [
       "tensor([17.3390, 15.7463, 13.9590, 12.0160, 10.7376, 10.0770,  9.4094,  8.9097,\n",
       "         8.8677,  8.6096,  8.3729,  8.2153,  7.6613,  7.2529,  7.7048,  9.0047,\n",
       "        10.7842, 12.1213, 13.2148, 14.2274, 15.0918, 16.1355, 16.7170, 16.7614,\n",
       "        15.9245, 14.9026, 13.6265, 11.7239, 10.6657,  9.6601,  8.8198,  8.3698,\n",
       "         8.1420,  7.5346,  7.0384,  6.5721,  5.9149,  5.6914,  5.8244,  6.8307,\n",
       "         8.4529, 10.3341, 12.5905, 14.4268, 15.8041, 16.5504, 17.2494, 17.6173],\n",
       "       device='cuda:0')"
      ]
     },
     "execution_count": 699,
     "metadata": {},
     "output_type": "execute_result"
    }
   ],
   "source": [
    "temperature"
   ]
  },
  {
   "cell_type": "code",
   "execution_count": null,
   "id": "bdf02069",
   "metadata": {},
   "outputs": [],
   "source": []
  }
 ],
 "metadata": {
  "kernelspec": {
   "display_name": "Python 3 (ipykernel)",
   "language": "python",
   "name": "python3"
  },
  "language_info": {
   "codemirror_mode": {
    "name": "ipython",
    "version": 3
   },
   "file_extension": ".py",
   "mimetype": "text/x-python",
   "name": "python",
   "nbconvert_exporter": "python",
   "pygments_lexer": "ipython3",
   "version": "3.9.16"
  }
 },
 "nbformat": 4,
 "nbformat_minor": 5
}
