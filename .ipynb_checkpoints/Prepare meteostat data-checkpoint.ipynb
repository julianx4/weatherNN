{
 "cells": [
  {
   "cell_type": "code",
   "execution_count": 31,
   "id": "c3ac6381",
   "metadata": {},
   "outputs": [],
   "source": [
    "import pandas as pd\n",
    "\n",
    "data_north = pd.read_csv('data_north_p.csv', index_col='time')"
   ]
  },
  {
   "cell_type": "code",
   "execution_count": 34,
   "id": "41496855",
   "metadata": {},
   "outputs": [
    {
     "name": "stdout",
     "output_type": "stream",
     "text": [
      "                     temp  dwpt  rhum  prcp  snow   wdir  wspd  wpgt    pres  \\\n",
      "time                                                                           \n",
      "2021-02-27 00:00:00   1.6   0.9  95.0   0.0   NaN  289.0  11.1  18.5  1036.6   \n",
      "2021-02-27 01:00:00   1.5   0.8  95.0   0.0   NaN  288.0  11.1  18.5  1036.9   \n",
      "2021-02-27 02:00:00   1.4   0.8  96.0   0.0   NaN  287.0  11.1  18.5  1037.0   \n",
      "2021-02-27 03:00:00   1.6   0.7  94.0   0.0   NaN  285.0  11.1  18.5  1037.1   \n",
      "2021-02-27 04:00:00   1.4   0.5  94.0   0.0   NaN  289.0  11.1  18.5  1037.3   \n",
      "\n",
      "                     tsun  coco  \n",
      "time                             \n",
      "2021-02-27 00:00:00   NaN   4.0  \n",
      "2021-02-27 01:00:00   NaN   4.0  \n",
      "2021-02-27 02:00:00   NaN   4.0  \n",
      "2021-02-27 03:00:00   NaN   4.0  \n",
      "2021-02-27 04:00:00   NaN   4.0  \n"
     ]
    }
   ],
   "source": [
    "print(data_north[:5])"
   ]
  },
  {
   "cell_type": "code",
   "execution_count": 32,
   "id": "d6577f1f",
   "metadata": {},
   "outputs": [
    {
     "ename": "TypeError",
     "evalue": "Cannot change data-type for object array.",
     "output_type": "error",
     "traceback": [
      "\u001b[0;31m---------------------------------------------------------------------------\u001b[0m",
      "\u001b[0;31mTypeError\u001b[0m                                 Traceback (most recent call last)",
      "Cell \u001b[0;32mIn[32], line 1\u001b[0m\n\u001b[0;32m----> 1\u001b[0m data_north\u001b[38;5;241m.\u001b[39mindex \u001b[38;5;241m=\u001b[39m \u001b[43mdata_north\u001b[49m\u001b[38;5;241;43m.\u001b[39;49m\u001b[43mindex\u001b[49m\u001b[38;5;241;43m.\u001b[39;49m\u001b[43mview\u001b[49m\u001b[43m(\u001b[49m\u001b[38;5;124;43m'\u001b[39;49m\u001b[38;5;124;43mint64\u001b[39;49m\u001b[38;5;124;43m'\u001b[39;49m\u001b[43m)\u001b[49m \u001b[38;5;241m/\u001b[39m \u001b[38;5;241m1e9\u001b[39m  \u001b[38;5;66;03m# Convert from nanoseconds to seconds\u001b[39;00m\n\u001b[1;32m      2\u001b[0m data_north\u001b[38;5;241m.\u001b[39mindex \u001b[38;5;241m=\u001b[39m data_north\u001b[38;5;241m.\u001b[39mindex\u001b[38;5;241m.\u001b[39mastype(\u001b[38;5;28mint\u001b[39m) \u001b[38;5;241m*\u001b[39m \u001b[38;5;241m10\u001b[39m\u001b[38;5;241m*\u001b[39m\u001b[38;5;241m*\u001b[39m\u001b[38;5;241m9\u001b[39m\n",
      "File \u001b[0;32m~/miniconda3/envs/tf/lib/python3.9/site-packages/pandas/core/indexes/base.py:1047\u001b[0m, in \u001b[0;36mIndex.view\u001b[0;34m(self, cls)\u001b[0m\n\u001b[1;32m   1044\u001b[0m         arr \u001b[38;5;241m=\u001b[39m arr_cls(\u001b[38;5;28mself\u001b[39m\u001b[38;5;241m.\u001b[39m_data\u001b[38;5;241m.\u001b[39mview(\u001b[38;5;124m\"\u001b[39m\u001b[38;5;124mi8\u001b[39m\u001b[38;5;124m\"\u001b[39m), dtype\u001b[38;5;241m=\u001b[39mdtype)\n\u001b[1;32m   1045\u001b[0m         \u001b[38;5;28;01mreturn\u001b[39;00m idx_cls\u001b[38;5;241m.\u001b[39m_simple_new(arr, name\u001b[38;5;241m=\u001b[39m\u001b[38;5;28mself\u001b[39m\u001b[38;5;241m.\u001b[39mname)\n\u001b[0;32m-> 1047\u001b[0m     result \u001b[38;5;241m=\u001b[39m \u001b[38;5;28;43mself\u001b[39;49m\u001b[38;5;241;43m.\u001b[39;49m\u001b[43m_data\u001b[49m\u001b[38;5;241;43m.\u001b[39;49m\u001b[43mview\u001b[49m\u001b[43m(\u001b[49m\u001b[38;5;28;43mcls\u001b[39;49m\u001b[43m)\u001b[49m\n\u001b[1;32m   1048\u001b[0m \u001b[38;5;28;01melse\u001b[39;00m:\n\u001b[1;32m   1049\u001b[0m     result \u001b[38;5;241m=\u001b[39m \u001b[38;5;28mself\u001b[39m\u001b[38;5;241m.\u001b[39m_view()\n",
      "File \u001b[0;32m~/miniconda3/envs/tf/lib/python3.9/site-packages/numpy/core/_internal.py:548\u001b[0m, in \u001b[0;36m_view_is_safe\u001b[0;34m(oldtype, newtype)\u001b[0m\n\u001b[1;32m    545\u001b[0m     \u001b[38;5;28;01mreturn\u001b[39;00m\n\u001b[1;32m    547\u001b[0m \u001b[38;5;28;01mif\u001b[39;00m newtype\u001b[38;5;241m.\u001b[39mhasobject \u001b[38;5;129;01mor\u001b[39;00m oldtype\u001b[38;5;241m.\u001b[39mhasobject:\n\u001b[0;32m--> 548\u001b[0m     \u001b[38;5;28;01mraise\u001b[39;00m \u001b[38;5;167;01mTypeError\u001b[39;00m(\u001b[38;5;124m\"\u001b[39m\u001b[38;5;124mCannot change data-type for object array.\u001b[39m\u001b[38;5;124m\"\u001b[39m)\n\u001b[1;32m    549\u001b[0m \u001b[38;5;28;01mreturn\u001b[39;00m\n",
      "\u001b[0;31mTypeError\u001b[0m: Cannot change data-type for object array."
     ]
    }
   ],
   "source": [
    "data_north.index = data_north.index.view('int64') / 1e9  # Convert from nanoseconds to seconds\n",
    "data_north.index = data_north.index.astype(int) * 10**9  # Convert from seconds to nanoseconds"
   ]
  },
  {
   "cell_type": "code",
   "execution_count": 33,
   "id": "cf3216f7",
   "metadata": {},
   "outputs": [
    {
     "name": "stdout",
     "output_type": "stream",
     "text": [
      "                     temp  dwpt  rhum  prcp  snow   wdir  wspd  wpgt    pres  \\\n",
      "time                                                                           \n",
      "2021-02-27 00:00:00   1.6   0.9  95.0   0.0   NaN  289.0  11.1  18.5  1036.6   \n",
      "2021-02-27 01:00:00   1.5   0.8  95.0   0.0   NaN  288.0  11.1  18.5  1036.9   \n",
      "2021-02-27 02:00:00   1.4   0.8  96.0   0.0   NaN  287.0  11.1  18.5  1037.0   \n",
      "2021-02-27 03:00:00   1.6   0.7  94.0   0.0   NaN  285.0  11.1  18.5  1037.1   \n",
      "2021-02-27 04:00:00   1.4   0.5  94.0   0.0   NaN  289.0  11.1  18.5  1037.3   \n",
      "\n",
      "                     tsun  coco  \n",
      "time                             \n",
      "2021-02-27 00:00:00   NaN   4.0  \n",
      "2021-02-27 01:00:00   NaN   4.0  \n",
      "2021-02-27 02:00:00   NaN   4.0  \n",
      "2021-02-27 03:00:00   NaN   4.0  \n",
      "2021-02-27 04:00:00   NaN   4.0  \n"
     ]
    }
   ],
   "source": [
    "print(data_north[:5])"
   ]
  },
  {
   "cell_type": "code",
   "execution_count": null,
   "id": "40a68ba9",
   "metadata": {},
   "outputs": [],
   "source": []
  }
 ],
 "metadata": {
  "kernelspec": {
   "display_name": "Python 3 (ipykernel)",
   "language": "python",
   "name": "python3"
  },
  "language_info": {
   "codemirror_mode": {
    "name": "ipython",
    "version": 3
   },
   "file_extension": ".py",
   "mimetype": "text/x-python",
   "name": "python",
   "nbconvert_exporter": "python",
   "pygments_lexer": "ipython3",
   "version": "3.9.16"
  }
 },
 "nbformat": 4,
 "nbformat_minor": 5
}
