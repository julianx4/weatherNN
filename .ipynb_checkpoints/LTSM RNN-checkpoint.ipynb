{
 "cells": [
  {
   "cell_type": "code",
   "execution_count": 213,
   "id": "714bddae",
   "metadata": {},
   "outputs": [],
   "source": [
    "import os\n",
    "os.environ['TF_CPP_MIN_LOG_LEVEL'] = '2'\n",
    "import torch\n",
    "import torch.nn as nn\n",
    "from torch.nn import functional as F\n",
    "from itertools import groupby\n",
    "from operator import itemgetter\n",
    "import datetime\n",
    "import math\n",
    "import pandas as pd\n",
    "import numpy as np\n",
    "import pytz\n",
    "\n",
    "file1 = \"all_training_data_sorted.csv\"\n",
    "north = 'data_north_p.csv'\n",
    "east = 'data_east_p.csv'\n",
    "south = 'data_south_p.csv'\n",
    "west = 'data_west_p.csv'\n",
    "device = 'cuda'\n",
    "\n",
    "tz = pytz.timezone('Europe/Berlin')\n",
    "\n",
    "def convert_to_weeknumber_cossin(timestamp):\n",
    "    date = datetime.datetime.fromtimestamp(timestamp)\n",
    "    dt_local = date.astimezone(tz)\n",
    "    week_number = dt_local.isocalendar()[1]\n",
    "    sin_week = np.sin(2*np.pi*week_number/53).astype(np.float32)\n",
    "    cos_week = np.cos(2*np.pi*week_number/53).astype(np.float32)\n",
    "    return sin_week, cos_week\n",
    "\n",
    "def convert_to_hour_cossin(timestamp):\n",
    "    date = datetime.datetime.fromtimestamp(timestamp)\n",
    "    dt_local = date.astimezone(tz)\n",
    "    hour = dt_local.hour\n",
    "    sin_hour = np.sin(2*np.pi*hour/24).astype(np.float32)\n",
    "    cos_hour = np.cos(2*np.pi*hour/24).astype(np.float32)\n",
    "    return sin_hour, cos_hour\n",
    "\n",
    "\n",
    "def closest_timestamp(data, timestamp):\n",
    "    closest_timestamp = min(data.keys(), key=lambda t: abs(t - timestamp))\n",
    "    return data[closest_timestamp]\n",
    "\n",
    "def read_csv(file):\n",
    "    data = pd.read_csv(file)\n",
    "    for index, row in data.iterrows():\n",
    "        yield row['time'] / 1_000_000_000, row['tags'], row['min'], row['max'], row['mean'] \n",
    "\n",
    "def read_csv_meteostat(file):\n",
    "    data = pd.read_csv(file)\n",
    "    timestamp_dict = {}\n",
    "    for index, row in data.iterrows():\n",
    "        if not pd.isna(row['time']) and not pd.isna(row['pres']):\n",
    "            timestamp = row['time'] / 1_000_000_000\n",
    "            timestamp_dict[timestamp] = row['pres']                            \n",
    "    return timestamp_dict\n",
    "\n",
    "def group_column(file, north, east, south, west):\n",
    "    meteostat_data_north = read_csv_meteostat(north)\n",
    "    meteostat_data_east = read_csv_meteostat(east)\n",
    "    meteostat_data_south = read_csv_meteostat(south)\n",
    "    meteostat_data_west = read_csv_meteostat(west)\n",
    "    \n",
    "    for timestamp, values in groupby(read_csv(file), key=itemgetter(0)):\n",
    "        pres_value_north = closest_timestamp(meteostat_data_north, timestamp)\n",
    "        pres_value_east = closest_timestamp(meteostat_data_east, timestamp)\n",
    "        pres_value_south = closest_timestamp(meteostat_data_south, timestamp)\n",
    "        pres_value_west = closest_timestamp(meteostat_data_west, timestamp)\n",
    "        \n",
    "        d = {}\n",
    "        for (_, topic, value_min, value_max, value_mean) in values:\n",
    "            if not math.isnan(value_min) and not math.isnan(value_max) and not math.isnan(value_mean):\n",
    "                d[topic] = {'min': value_min, 'max': value_max, 'mean': value_mean}\n",
    "        \n",
    "        try:\n",
    "            week_values = convert_to_weeknumber_cossin(timestamp)\n",
    "            hour_values = convert_to_hour_cossin(timestamp)\n",
    "            yield (\n",
    "                (d[\"topic=Pfullingen/temperature\"]['mean'] - 20) / 35, \n",
    "                (d[\"topic=Pfullingen/hourlyrain\"]['mean']) / 10, \n",
    "                (d[\"topic=Pfullingen/windspeed\"]['mean']- 5) / 10,\n",
    "                (d[\"topic=Pfullingen/solarradiation\"]['max'] - 500) / 1000,\n",
    "                (d[\"topic=Pfullingen/solarradiation\"]['mean'] - 500) / 1000, \n",
    "                (d[\"topic=Pfullingen/pressure\"]['mean'] - 500) / 1000,\n",
    "                (d[\"topic=Pfullingen/winddir\"]['mean'] - 180) / 360,\n",
    "                (d[\"topic=Pfullingen/humidity\"]['mean'] - 50) / 100,\n",
    "                hour_values[0],\n",
    "                hour_values[1],\n",
    "                week_values[0],\n",
    "                week_values[1],\n",
    "                float((pres_value_north - 500) / 1000),\n",
    "                float((pres_value_east - 500) / 1000),\n",
    "                float((pres_value_south - 500) / 1000),\n",
    "                float((pres_value_west - 500) / 1000)\n",
    "                \n",
    "            )\n",
    "        except KeyError:\n",
    "            pass"
   ]
  },
  {
   "cell_type": "code",
   "execution_count": 220,
   "id": "0ff88692",
   "metadata": {},
   "outputs": [],
   "source": [
    "class WeatherForecast(nn.Module):\n",
    "    def __init__(self, input_features, hidden_dim, num_layers, output_dim):\n",
    "        super(WeatherForecast, self).__init__()\n",
    "        self.hidden_dim = hidden_dim\n",
    "        self.num_layers = num_layers\n",
    "\n",
    "        self.lstm = nn.LSTM(input_features, hidden_dim, num_layers, batch_first=True)\n",
    "        self.fc = nn.Linear(hidden_dim, output_dim)\n",
    "\n",
    "    def forward(self, x):\n",
    "        h0 = torch.zeros(self.num_layers, x.size(0), self.hidden_dim).to(x.device) \n",
    "        c0 = torch.zeros(self.num_layers, x.size(0), self.hidden_dim).to(x.device)\n",
    "\n",
    "        out, _ = self.lstm(x, (h0, c0))\n",
    "        out = self.fc(out[:, -1, :])\n",
    "        return out"
   ]
  },
  {
   "cell_type": "code",
   "execution_count": 329,
   "id": "8edc9ab4",
   "metadata": {},
   "outputs": [],
   "source": [
    "class Encoder(nn.Module):\n",
    "    def __init__(self, input_dim, hidden_dim, num_layers, dropout):\n",
    "        super(Encoder, self).__init__()\n",
    "        self.hidden_dim = hidden_dim\n",
    "        self.num_layers = num_layers\n",
    "\n",
    "        self.lstm = nn.LSTM(input_dim, hidden_dim, num_layers, dropout=dropout, batch_first=True)\n",
    "\n",
    "    def forward(self, src):\n",
    "        outputs, (hidden, cell) = self.lstm(src)\n",
    "        return hidden, cell\n",
    "\n",
    "\n",
    "class Decoder(nn.Module):\n",
    "    def __init__(self, output_dim, hidden_dim, num_layers, dropout):\n",
    "        super(Decoder, self).__init__()\n",
    "        self.output_dim = output_dim\n",
    "        self.hidden_dim = hidden_dim\n",
    "        self.num_layers = num_layers\n",
    "\n",
    "        self.lstm = nn.LSTM(output_dim, hidden_dim, num_layers, dropout=dropout, batch_first=True)\n",
    "        self.fc_out = nn.Linear(hidden_dim, output_dim)\n",
    "\n",
    "    def forward(self, x, hidden, cell):\n",
    "        output, (hidden, cell) = self.lstm(x.unsqueeze(1), (hidden, cell))\n",
    "        prediction = self.fc_out(output.squeeze(1))\n",
    "        return prediction, hidden, cell\n",
    "\n",
    "\n",
    "class Seq2Seq(nn.Module):\n",
    "    def __init__(self, encoder, decoder, device):\n",
    "        super(Seq2Seq, self).__init__()\n",
    "\n",
    "        self.encoder = encoder\n",
    "        self.decoder = decoder\n",
    "        self.device = device\n",
    "\n",
    "    def forward(self, src, trg, teacher_forcing_ratio=0.5):\n",
    "        batch_size = src.shape[0]\n",
    "        trg_len = trg.shape[1]\n",
    "        trg_dim = trg.shape[2]\n",
    "\n",
    "        outputs = torch.zeros(batch_size, trg_len, trg_dim).to(self.device)\n",
    "\n",
    "        hidden, cell = self.encoder(src)\n",
    "\n",
    "        x = trg[:, 0, :]\n",
    "\n",
    "        for t in range(1, trg_len):\n",
    "            output, hidden, cell = self.decoder(x, hidden, cell)\n",
    "\n",
    "            outputs[:, t, :] = output\n",
    "\n",
    "            teacher_force = random.random() < teacher_forcing_ratio\n",
    "\n",
    "            x = trg[:, t, :] if teacher_force else output\n",
    "\n",
    "        return outputs\n",
    "\n"
   ]
  },
  {
   "cell_type": "code",
   "execution_count": 214,
   "id": "45e4dbcf",
   "metadata": {},
   "outputs": [],
   "source": [
    "imported_data_raw = list(group_column(file1, north, east, south, west))\n",
    "imported_data = torch.tensor(imported_data_raw)\n"
   ]
  },
  {
   "cell_type": "code",
   "execution_count": 330,
   "id": "8aab517b",
   "metadata": {},
   "outputs": [
    {
     "data": {
      "text/plain": [
       "torch.Size([18664, 16])"
      ]
     },
     "execution_count": 330,
     "metadata": {},
     "output_type": "execute_result"
    }
   ],
   "source": [
    "imported_data.shape"
   ]
  },
  {
   "cell_type": "code",
   "execution_count": 322,
   "id": "e1e8dae0",
   "metadata": {},
   "outputs": [],
   "source": [
    "def create_sequences(data, input_hours, output_hours, output_features):\n",
    "    xs = []\n",
    "    ys = []\n",
    "\n",
    "    for i in range(data.size(0)-(input_hours+output_hours)):\n",
    "        x = data[i:(i+input_hours)]\n",
    "        y = data[(i+input_hours):(i+input_hours+output_hours),:output_features]\n",
    "        xs.append(x)\n",
    "        ys.append(y)\n",
    "\n",
    "    return torch.stack(xs), torch.stack(ys)#.view(-1, output_hours * output_features)"
   ]
  },
  {
   "cell_type": "code",
   "execution_count": 343,
   "id": "24ec6069",
   "metadata": {},
   "outputs": [],
   "source": [
    "input_hours = 72\n",
    "output_hours = 24\n",
    "input_features = 16\n",
    "output_features = 16\n"
   ]
  },
  {
   "cell_type": "code",
   "execution_count": 344,
   "id": "e06fd679",
   "metadata": {},
   "outputs": [
    {
     "name": "stdout",
     "output_type": "stream",
     "text": [
      "torch.Size([18568, 72, 16])\n",
      "torch.Size([18568, 24, 16])\n"
     ]
    }
   ],
   "source": [
    "X, y = create_sequences(imported_data, input_hours, output_dim, output_features)\n",
    "print(X.shape)\n",
    "print(y.shape)"
   ]
  },
  {
   "cell_type": "code",
   "execution_count": 345,
   "id": "70124042",
   "metadata": {},
   "outputs": [],
   "source": [
    "from torch.utils.data import random_split\n",
    "from torch.utils.data import TensorDataset, DataLoader\n",
    "\n",
    "# Calculate split sizes\n",
    "num_samples = len(X)\n",
    "num_train = round(num_samples * 0.8)\n",
    "num_val = num_samples - num_train\n",
    "\n",
    "# Create data sets\n",
    "train_data, val_data = random_split(TensorDataset(X, y), [num_train, num_val])\n",
    "\n",
    "batch_size = 32\n",
    "\n",
    "# Create DataLoaders\n",
    "train_loader = DataLoader(train_data, batch_size=batch_size, shuffle=False, drop_last=True)\n",
    "val_loader = DataLoader(val_data, batch_size=batch_size, shuffle=False, drop_last=True)"
   ]
  },
  {
   "cell_type": "code",
   "execution_count": 346,
   "id": "ae7d684b",
   "metadata": {},
   "outputs": [
    {
     "name": "stdout",
     "output_type": "stream",
     "text": [
      "torch.Size([32, 72, 16]) torch.Size([32, 24, 16])\n"
     ]
    }
   ],
   "source": [
    "for inputs, labels in train_loader:\n",
    "    print(inputs.shape, labels.shape)\n",
    "    break"
   ]
  },
  {
   "cell_type": "code",
   "execution_count": 347,
   "id": "6675c742",
   "metadata": {},
   "outputs": [],
   "source": [
    "#model with LSTM\n",
    "model = WeatherForecast(input_features=input_features, hidden_dim=60, num_layers=5, output_dim=output_features*output_hours).to(device)"
   ]
  },
  {
   "cell_type": "code",
   "execution_count": 364,
   "id": "db737472",
   "metadata": {},
   "outputs": [],
   "source": [
    "#model with Seq2Seq\n",
    "hidden_dim = 128\n",
    "num_layers = 3\n",
    "dropout = 0.5\n",
    "encoder = Encoder(input_dim=input_features, hidden_dim=hidden_dim, num_layers=num_layers, dropout=dropout).to(device)\n",
    "decoder = Decoder(output_dim=output_features, hidden_dim=hidden_dim, num_layers=num_layers, dropout=dropout).to(device)\n",
    "\n",
    "model = Seq2Seq(encoder, decoder, device).to(device)"
   ]
  },
  {
   "cell_type": "code",
   "execution_count": 365,
   "id": "2b2eb750",
   "metadata": {},
   "outputs": [
    {
     "name": "stdout",
     "output_type": "stream",
     "text": [
      "Epoch [1/50], Train Loss: 0.0220, Validation Loss: 0.0194\n",
      "Epoch [2/50], Train Loss: 0.0205, Validation Loss: 0.0167\n",
      "Epoch [3/50], Train Loss: 0.0189, Validation Loss: 0.0161\n",
      "Epoch [4/50], Train Loss: 0.0172, Validation Loss: 0.0152\n",
      "Epoch [5/50], Train Loss: 0.0177, Validation Loss: 0.0151\n",
      "Epoch [6/50], Train Loss: 0.0156, Validation Loss: 0.0146\n",
      "Epoch [7/50], Train Loss: 0.0157, Validation Loss: 0.0145\n",
      "Epoch [8/50], Train Loss: 0.0162, Validation Loss: 0.0143\n",
      "Epoch [9/50], Train Loss: 0.0151, Validation Loss: 0.0143\n",
      "Epoch [10/50], Train Loss: 0.0156, Validation Loss: 0.0141\n",
      "Epoch [11/50], Train Loss: 0.0146, Validation Loss: 0.0142\n",
      "Epoch [12/50], Train Loss: 0.0142, Validation Loss: 0.0140\n",
      "Epoch [13/50], Train Loss: 0.0155, Validation Loss: 0.0140\n",
      "Epoch [14/50], Train Loss: 0.0142, Validation Loss: 0.0140\n",
      "Epoch [15/50], Train Loss: 0.0147, Validation Loss: 0.0139\n",
      "Epoch [16/50], Train Loss: 0.0152, Validation Loss: 0.0140\n",
      "Epoch [17/50], Train Loss: 0.0150, Validation Loss: 0.0139\n",
      "Epoch [18/50], Train Loss: 0.0154, Validation Loss: 0.0138\n",
      "Epoch [19/50], Train Loss: 0.0141, Validation Loss: 0.0137\n",
      "Epoch [20/50], Train Loss: 0.0143, Validation Loss: 0.0139\n",
      "Epoch [21/50], Train Loss: 0.0151, Validation Loss: 0.0138\n",
      "Epoch [22/50], Train Loss: 0.0138, Validation Loss: 0.0136\n"
     ]
    },
    {
     "ename": "KeyboardInterrupt",
     "evalue": "",
     "output_type": "error",
     "traceback": [
      "\u001b[0;31m---------------------------------------------------------------------------\u001b[0m",
      "\u001b[0;31mKeyboardInterrupt\u001b[0m                         Traceback (most recent call last)",
      "Cell \u001b[0;32mIn[365], line 16\u001b[0m\n\u001b[1;32m     13\u001b[0m     outputs \u001b[38;5;241m=\u001b[39m model(inputs, labels)\n\u001b[1;32m     15\u001b[0m     loss \u001b[38;5;241m=\u001b[39m criterion(outputs, labels)\n\u001b[0;32m---> 16\u001b[0m     \u001b[43mloss\u001b[49m\u001b[38;5;241;43m.\u001b[39;49m\u001b[43mbackward\u001b[49m\u001b[43m(\u001b[49m\u001b[43m)\u001b[49m\n\u001b[1;32m     18\u001b[0m     optimizer\u001b[38;5;241m.\u001b[39mstep()\n\u001b[1;32m     20\u001b[0m model\u001b[38;5;241m.\u001b[39meval()\n",
      "File \u001b[0;32m~/miniconda3/envs/tf/lib/python3.9/site-packages/torch/_tensor.py:487\u001b[0m, in \u001b[0;36mTensor.backward\u001b[0;34m(self, gradient, retain_graph, create_graph, inputs)\u001b[0m\n\u001b[1;32m    477\u001b[0m \u001b[38;5;28;01mif\u001b[39;00m has_torch_function_unary(\u001b[38;5;28mself\u001b[39m):\n\u001b[1;32m    478\u001b[0m     \u001b[38;5;28;01mreturn\u001b[39;00m handle_torch_function(\n\u001b[1;32m    479\u001b[0m         Tensor\u001b[38;5;241m.\u001b[39mbackward,\n\u001b[1;32m    480\u001b[0m         (\u001b[38;5;28mself\u001b[39m,),\n\u001b[0;32m   (...)\u001b[0m\n\u001b[1;32m    485\u001b[0m         inputs\u001b[38;5;241m=\u001b[39minputs,\n\u001b[1;32m    486\u001b[0m     )\n\u001b[0;32m--> 487\u001b[0m \u001b[43mtorch\u001b[49m\u001b[38;5;241;43m.\u001b[39;49m\u001b[43mautograd\u001b[49m\u001b[38;5;241;43m.\u001b[39;49m\u001b[43mbackward\u001b[49m\u001b[43m(\u001b[49m\n\u001b[1;32m    488\u001b[0m \u001b[43m    \u001b[49m\u001b[38;5;28;43mself\u001b[39;49m\u001b[43m,\u001b[49m\u001b[43m \u001b[49m\u001b[43mgradient\u001b[49m\u001b[43m,\u001b[49m\u001b[43m \u001b[49m\u001b[43mretain_graph\u001b[49m\u001b[43m,\u001b[49m\u001b[43m \u001b[49m\u001b[43mcreate_graph\u001b[49m\u001b[43m,\u001b[49m\u001b[43m \u001b[49m\u001b[43minputs\u001b[49m\u001b[38;5;241;43m=\u001b[39;49m\u001b[43minputs\u001b[49m\n\u001b[1;32m    489\u001b[0m \u001b[43m\u001b[49m\u001b[43m)\u001b[49m\n",
      "File \u001b[0;32m~/miniconda3/envs/tf/lib/python3.9/site-packages/torch/autograd/__init__.py:200\u001b[0m, in \u001b[0;36mbackward\u001b[0;34m(tensors, grad_tensors, retain_graph, create_graph, grad_variables, inputs)\u001b[0m\n\u001b[1;32m    195\u001b[0m     retain_graph \u001b[38;5;241m=\u001b[39m create_graph\n\u001b[1;32m    197\u001b[0m \u001b[38;5;66;03m# The reason we repeat same the comment below is that\u001b[39;00m\n\u001b[1;32m    198\u001b[0m \u001b[38;5;66;03m# some Python versions print out the first line of a multi-line function\u001b[39;00m\n\u001b[1;32m    199\u001b[0m \u001b[38;5;66;03m# calls in the traceback and some print out the last line\u001b[39;00m\n\u001b[0;32m--> 200\u001b[0m \u001b[43mVariable\u001b[49m\u001b[38;5;241;43m.\u001b[39;49m\u001b[43m_execution_engine\u001b[49m\u001b[38;5;241;43m.\u001b[39;49m\u001b[43mrun_backward\u001b[49m\u001b[43m(\u001b[49m\u001b[43m  \u001b[49m\u001b[38;5;66;43;03m# Calls into the C++ engine to run the backward pass\u001b[39;49;00m\n\u001b[1;32m    201\u001b[0m \u001b[43m    \u001b[49m\u001b[43mtensors\u001b[49m\u001b[43m,\u001b[49m\u001b[43m \u001b[49m\u001b[43mgrad_tensors_\u001b[49m\u001b[43m,\u001b[49m\u001b[43m \u001b[49m\u001b[43mretain_graph\u001b[49m\u001b[43m,\u001b[49m\u001b[43m \u001b[49m\u001b[43mcreate_graph\u001b[49m\u001b[43m,\u001b[49m\u001b[43m \u001b[49m\u001b[43minputs\u001b[49m\u001b[43m,\u001b[49m\n\u001b[1;32m    202\u001b[0m \u001b[43m    \u001b[49m\u001b[43mallow_unreachable\u001b[49m\u001b[38;5;241;43m=\u001b[39;49m\u001b[38;5;28;43;01mTrue\u001b[39;49;00m\u001b[43m,\u001b[49m\u001b[43m \u001b[49m\u001b[43maccumulate_grad\u001b[49m\u001b[38;5;241;43m=\u001b[39;49m\u001b[38;5;28;43;01mTrue\u001b[39;49;00m\u001b[43m)\u001b[49m\n",
      "\u001b[0;31mKeyboardInterrupt\u001b[0m: "
     ]
    }
   ],
   "source": [
    "#seq2seq training loop\n",
    "num_epochs = 50\n",
    "criterion = nn.MSELoss()\n",
    "optimizer = optim.AdamW(model.parameters(), lr=1e-3)\n",
    "\n",
    "for epoch in range(num_epochs):\n",
    "    model.train()\n",
    "    for inputs, labels in train_loader:\n",
    "        inputs, labels = inputs.to(device), labels.to(device)\n",
    "\n",
    "        optimizer.zero_grad()\n",
    "\n",
    "        outputs = model(inputs, labels)\n",
    "\n",
    "        loss = criterion(outputs, labels)\n",
    "        loss.backward()\n",
    "\n",
    "        optimizer.step()\n",
    "\n",
    "    model.eval()\n",
    "    with torch.no_grad():\n",
    "        val_losses = []\n",
    "        for inputs, labels in val_loader:\n",
    "            inputs, labels = inputs.to(device), labels.to(device)\n",
    "            outputs = model(inputs, labels)\n",
    "            val_loss = criterion(outputs, labels)\n",
    "            val_losses.append(val_loss.item())\n",
    "\n",
    "    avg_val_loss = sum(val_losses) / len(val_losses)\n",
    "    print('Epoch [{}/{}], Train Loss: {:.4f}, Validation Loss: {:.4f}'.format(epoch+1, num_epochs, loss.item(), avg_val_loss))"
   ]
  },
  {
   "cell_type": "code",
   "execution_count": null,
   "id": "66cf39f3",
   "metadata": {},
   "outputs": [],
   "source": [
    "#LSTM training loop\n",
    "import torch.optim as optim\n",
    "\n",
    "num_epochs = 10\n",
    "criterion = nn.MSELoss()\n",
    "optimizer = optim.AdamW(model.parameters(), lr=1e-6)\n",
    "\n",
    "for epoch in range(num_epochs):\n",
    "    model.train()\n",
    "    for inputs, labels in train_loader:\n",
    "        inputs, labels = inputs.to(device), labels.to(device)\n",
    "\n",
    "        optimizer.zero_grad()\n",
    "        outputs = model(inputs)\n",
    "\n",
    "        loss = criterion(outputs, labels)\n",
    "        loss.backward()\n",
    "        optimizer.step()\n",
    "       \n",
    "\n",
    "    model.eval()\n",
    "    with torch.no_grad():\n",
    "        val_losses = []\n",
    "        for inputs, labels in val_loader:\n",
    "            inputs, labels = inputs.to(device), labels.to(device)\n",
    "            outputs = model(inputs)\n",
    "            val_loss = criterion(outputs, labels)\n",
    "            val_losses.append(val_loss.item())\n",
    "\n",
    "    avg_val_loss = sum(val_losses) / len(val_losses)\n",
    "    print('Epoch [{}/{}], Train Loss: {:.4f}, Validation Loss: {:.4f}'.format(epoch+1, num_epochs, loss.item(),avg_val_loss))"
   ]
  },
  {
   "cell_type": "code",
   "execution_count": 298,
   "id": "eb0bf006",
   "metadata": {},
   "outputs": [],
   "source": [
    "file1_forecast = \"test_sorted.csv\"\n",
    "north_forecast = 'data_north_p_test_latest.csv'\n",
    "east_forecast = 'data_east_p_test_latest.csv'\n",
    "south_forecast = 'data_south_p_test_latest.csv'\n",
    "west_forecast = 'data_west_p_test_latest.csv'"
   ]
  },
  {
   "cell_type": "code",
   "execution_count": 299,
   "id": "082ded60",
   "metadata": {},
   "outputs": [
    {
     "data": {
      "text/plain": [
       "WeatherForecast(\n",
       "  (lstm): LSTM(16, 60, num_layers=5, batch_first=True)\n",
       "  (fc): Linear(in_features=60, out_features=24, bias=True)\n",
       ")"
      ]
     },
     "execution_count": 299,
     "metadata": {},
     "output_type": "execute_result"
    }
   ],
   "source": [
    "#forecast LSTM\n",
    "model.eval()\n",
    "test_data_raw = list(group_column(file1_forecast, north_forecast, east_forecast, south_forecast, west_forecast))\n",
    "test_data = torch.tensor(test_data_raw, device=device)\n",
    "eval_data = test_data[-input_hours:]\n",
    "eval_data = eval_data.view(1,input_hours,input_features)\n",
    "output = model(eval_data)\n",
    "model.train()"
   ]
  },
  {
   "cell_type": "code",
   "execution_count": 350,
   "id": "b35f819b",
   "metadata": {},
   "outputs": [
    {
     "data": {
      "text/plain": [
       "torch.Size([1, 72, 16])"
      ]
     },
     "execution_count": 350,
     "metadata": {},
     "output_type": "execute_result"
    }
   ],
   "source": [
    "eval_data = test_data[-input_hours:].view(1,-1,input_features)\n",
    "eval_data.shape"
   ]
  },
  {
   "cell_type": "code",
   "execution_count": 385,
   "id": "3c120b69",
   "metadata": {},
   "outputs": [],
   "source": [
    "#forecast seq2seq\n",
    "def generate_sequence(model, inputs, seq_len):\n",
    "    model.eval()\n",
    "\n",
    "    batch_size = inputs.shape[0]\n",
    "    input_dim = inputs.shape[2]\n",
    "\n",
    "    outputs = torch.zeros(batch_size, seq_len, input_dim).to(device)\n",
    "\n",
    "    hidden, cell = model.encoder(inputs)\n",
    "\n",
    "    x = inputs[:, -1, :]  # Take the last time step of the input sequence\n",
    "\n",
    "    for t in range(seq_len):\n",
    "        output, hidden, cell = model.decoder(x, hidden, cell)\n",
    "        outputs[:, t, :] = output\n",
    "        x = output\n",
    "\n",
    "    return outputs\n",
    "forecast_hours = 5000\n",
    "inputs = eval_data\n",
    "output = generate_sequence(model, inputs, seq_len=forecast_hours)  # For 24 time steps"
   ]
  },
  {
   "cell_type": "code",
   "execution_count": 386,
   "id": "ff173a19",
   "metadata": {},
   "outputs": [
    {
     "data": {
      "text/plain": [
       "torch.Size([1, 5000, 16])"
      ]
     },
     "execution_count": 386,
     "metadata": {},
     "output_type": "execute_result"
    }
   ],
   "source": [
    "output.shape"
   ]
  },
  {
   "cell_type": "code",
   "execution_count": 387,
   "id": "beecdcd5",
   "metadata": {},
   "outputs": [],
   "source": [
    "input_temperature = eval_data.view(input_hours,16)[:,0]*35+20\n",
    "temperature = output.view(forecast_hours,output_features)[:,0]*35+20\n",
    "#rain = output.view(24,5)[:,1]*10\n",
    "#wind = output.view(24,5)[:,2]*10+5\n",
    "#solmax = output.view(24,5)[:,3]*1000+500\n",
    "#solmean = output.view(24,5)[:,4]*1000+500\n",
    "sin = output.view(forecast_hours,output_features)[:,8]\n",
    "forecast_temperature = temperature.cpu().detach().numpy()\n",
    "input_temperature = input_temperature.cpu().detach().numpy()\n",
    "sin = sin.cpu().detach().numpy()"
   ]
  },
  {
   "cell_type": "code",
   "execution_count": 388,
   "id": "b0056aba",
   "metadata": {},
   "outputs": [
    {
     "data": {
      "text/plain": [
       "Text(0, 0.5, 'Temperature')"
      ]
     },
     "execution_count": 388,
     "metadata": {},
     "output_type": "execute_result"
    },
    {
     "data": {
      "image/png": "[encoded data removed]",
      "text/plain": [
       "<Figure size 640x480 with 1 Axes>"
      ]
     },
     "metadata": {},
     "output_type": "display_data"
    }
   ],
   "source": [
    "import matplotlib.pyplot as plt\n",
    "# Generate x-axis values for the plots\n",
    "x_input = range(len(input_temperature))\n",
    "x_forecast = range(len(input_temperature), len(input_temperature) + len(forecast_temperature))\n",
    "plt.plot(x_input, input_temperature, color='blue', label='Input Temperature')\n",
    "plt.plot(x_forecast, forecast_temperature, color='red', label='Forecast Temperature')\n",
    "plt.plot(sin, color='red', label='Forecast Temperature')\n",
    "\n",
    "\n",
    "# Set labels and title\n",
    "plt.xlabel('Time')\n",
    "plt.ylabel('Temperature')\n",
    "\n"
   ]
  },
  {
   "cell_type": "code",
   "execution_count": null,
   "id": "c96cfe64",
   "metadata": {},
   "outputs": [],
   "source": []
  }
 ],
 "metadata": {
  "kernelspec": {
   "display_name": "Python 3 (ipykernel)",
   "language": "python",
   "name": "python3"
  },
  "language_info": {
   "codemirror_mode": {
    "name": "ipython",
    "version": 3
   },
   "file_extension": ".py",
   "mimetype": "text/x-python",
   "name": "python",
   "nbconvert_exporter": "python",
   "pygments_lexer": "ipython3",
   "version": "3.9.16"
  }
 },
 "nbformat": 4,
 "nbformat_minor": 5
}
