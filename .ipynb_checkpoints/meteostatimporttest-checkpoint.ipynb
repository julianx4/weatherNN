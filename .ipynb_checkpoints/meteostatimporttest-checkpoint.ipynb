{
 "cells": [
  {
   "cell_type": "code",
   "execution_count": 27,
   "id": "0012b188",
   "metadata": {},
   "outputs": [],
   "source": [
    "import meteostat\n",
    "# Import Meteostat library and dependencies\n",
    "from datetime import datetime, timedelta\n",
    "import matplotlib.pyplot as plt\n",
    "from meteostat import Point, Daily, Hourly\n",
    "import pandas as pd\n",
    "\n",
    "end = datetime.utcnow()\n",
    "start = end - timedelta(hours=75)\n",
    "\n",
    "north_p = Point(52.9911, 9.2159, 400)\n",
    "east_p = Point(48.4911, 13.6962, 400)\n",
    "south_p = Point(43.9911, 9.2159, 400)\n",
    "west_p = Point(48.4911, 4.7356, 400)\n",
    "\n",
    "data_north_p = Hourly(north_p, start, end)\n",
    "data_north_p = data_north_p.fetch()\n",
    "\n",
    "\n"
   ]
  },
  {
   "cell_type": "code",
   "execution_count": 29,
   "id": "3f7577eb",
   "metadata": {},
   "outputs": [
    {
     "name": "stdout",
     "output_type": "stream",
     "text": [
      "                     temp  dwpt  rhum  prcp  snow  wdir  wspd  wpgt    pres  \\\n",
      "1684393200000000000   6.6   0.4  65.0   0.0   NaN  25.0   5.5  11.1  1029.9   \n",
      "1684396800000000000   7.5   0.1  60.0   0.0   NaN  36.0   7.4  14.8  1030.1   \n",
      "1684400400000000000   8.2  -0.2  56.0   0.0   NaN  37.0   9.3  16.7  1030.1   \n",
      "1684404000000000000   9.7   0.7  54.0   0.0   NaN  40.0   9.3  18.5  1030.0   \n",
      "1684407600000000000  10.3   0.7  52.0   0.0   NaN  36.0   9.3  20.4  1029.7   \n",
      "...                   ...   ...   ...   ...   ...   ...   ...   ...     ...   \n",
      "1684638000000000000   9.2   7.1  87.0   0.0   NaN  49.0  13.0  22.2  1019.8   \n",
      "1684641600000000000   9.5   7.6  88.0   0.0   NaN  51.0  13.0  22.2  1019.8   \n",
      "1684645200000000000  10.2   7.8  85.0   0.0   NaN  51.0  13.0  22.2  1019.6   \n",
      "1684648800000000000  11.0   8.4  84.0   0.0   NaN  55.0  13.0  22.2  1019.6   \n",
      "1684652400000000000  12.2   9.2  82.0   0.0   NaN  61.0  13.0  24.1  1019.5   \n",
      "\n",
      "                     tsun  coco  \n",
      "1684393200000000000   NaN   4.0  \n",
      "1684396800000000000   NaN   4.0  \n",
      "1684400400000000000   NaN   4.0  \n",
      "1684404000000000000   NaN   2.0  \n",
      "1684407600000000000   NaN   3.0  \n",
      "...                   ...   ...  \n",
      "1684638000000000000   NaN   7.0  \n",
      "1684641600000000000   NaN   7.0  \n",
      "1684645200000000000   NaN   7.0  \n",
      "1684648800000000000   NaN   7.0  \n",
      "1684652400000000000   NaN   7.0  \n",
      "\n",
      "[73 rows x 11 columns]\n"
     ]
    }
   ],
   "source": [
    "#store data in pandas dataframe\n",
    "df = pd.DataFrame(data_north_p)\n",
    "\n",
    "# Assuming your DataFrame is named 'df'\n",
    "df.index = df.index.view('int64') / 1e9  # Convert from nanoseconds to seconds\n",
    "df.index = df.index.astype(int) * 10**9  # Convert from seconds to nanoseconds\n",
    "\n",
    "\n",
    "# Output the updated DataFrame\n",
    "print(df)\n"
   ]
  },
  {
   "cell_type": "code",
   "execution_count": null,
   "id": "5de1bf32",
   "metadata": {},
   "outputs": [],
   "source": []
  },
  {
   "cell_type": "code",
   "execution_count": null,
   "id": "b2f28802",
   "metadata": {},
   "outputs": [],
   "source": []
  }
 ],
 "metadata": {
  "kernelspec": {
   "display_name": "Python 3 (ipykernel)",
   "language": "python",
   "name": "python3"
  },
  "language_info": {
   "codemirror_mode": {
    "name": "ipython",
    "version": 3
   },
   "file_extension": ".py",
   "mimetype": "text/x-python",
   "name": "python",
   "nbconvert_exporter": "python",
   "pygments_lexer": "ipython3",
   "version": "3.9.16"
  }
 },
 "nbformat": 4,
 "nbformat_minor": 5
}
