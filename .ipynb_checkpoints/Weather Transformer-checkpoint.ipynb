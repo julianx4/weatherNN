{
 "cells": [
  {
   "cell_type": "code",
   "execution_count": 2,
   "id": "bec6d6af",
   "metadata": {},
   "outputs": [],
   "source": [
    "import os\n",
    "os.environ['TF_CPP_MIN_LOG_LEVEL'] = '2'\n",
    "import torch\n",
    "import torch.nn as nn\n",
    "from torch.nn import functional as F\n",
    "from itertools import groupby\n",
    "from operator import itemgetter\n",
    "import datetime\n",
    "import math\n",
    "import pandas as pd\n",
    "import numpy as np\n",
    "import pytz\n",
    "\n",
    "file1 = \"all_training_data_sorted.csv\"\n",
    "north = 'data_north_p.csv'\n",
    "east = 'data_east_p.csv'\n",
    "south = 'data_south_p.csv'\n",
    "west = 'data_west_p.csv'\n",
    "device = 'cuda'\n",
    "\n",
    "tz = pytz.timezone('Europe/Berlin')\n",
    "\n",
    "def convert_to_weeknumber_cossin(timestamp):\n",
    "    date = datetime.datetime.fromtimestamp(timestamp)\n",
    "    dt_local = date.astimezone(tz)\n",
    "    week_number = dt_local.isocalendar()[1]\n",
    "    sin_week = np.sin(2*np.pi*week_number/53).astype(np.float32)\n",
    "    cos_week = np.cos(2*np.pi*week_number/53).astype(np.float32)\n",
    "    return sin_week, cos_week\n",
    "\n",
    "def convert_to_hour_cossin(timestamp):\n",
    "    date = datetime.datetime.fromtimestamp(timestamp)\n",
    "    dt_local = date.astimezone(tz)\n",
    "    hour = dt_local.hour\n",
    "    sin_hour = np.sin(2*np.pi*hour/23).astype(np.float32)\n",
    "    cos_hour = np.cos(2*np.pi*hour/23).astype(np.float32)\n",
    "    return sin_hour, cos_hour\n",
    "\n",
    "\n",
    "def closest_timestamp(data, timestamp):\n",
    "    closest_timestamp = min(data.keys(), key=lambda t: abs(t - timestamp))\n",
    "    return data[closest_timestamp]\n",
    "\n",
    "def read_csv(file):\n",
    "    data = pd.read_csv(file)\n",
    "    for index, row in data.iterrows():\n",
    "        yield row['time'] / 1_000_000_000, row['tags'], row['min'], row['max'], row['mean'] \n",
    "\n",
    "def read_csv_meteostat(file):\n",
    "    data = pd.read_csv(file)\n",
    "    timestamp_dict = {}\n",
    "    for index, row in data.iterrows():\n",
    "        if not pd.isna(row['time']) and not pd.isna(row['pres']):\n",
    "            timestamp = row['time'] / 1_000_000_000\n",
    "            timestamp_dict[timestamp] = row['pres']                            \n",
    "    return timestamp_dict\n",
    "\n",
    "def group_column(file, north, east, south, west):\n",
    "    meteostat_data_north = read_csv_meteostat(north)\n",
    "    meteostat_data_east = read_csv_meteostat(east)\n",
    "    meteostat_data_south = read_csv_meteostat(south)\n",
    "    meteostat_data_west = read_csv_meteostat(west)\n",
    "    \n",
    "    for timestamp, values in groupby(read_csv(file), key=itemgetter(0)):\n",
    "        pres_value_north = closest_timestamp(meteostat_data_north, timestamp)\n",
    "        pres_value_east = closest_timestamp(meteostat_data_east, timestamp)\n",
    "        pres_value_south = closest_timestamp(meteostat_data_south, timestamp)\n",
    "        pres_value_west = closest_timestamp(meteostat_data_west, timestamp)\n",
    "        \n",
    "        d = {}\n",
    "        for (_, topic, value_min, value_max, value_mean) in values:\n",
    "            if not math.isnan(value_min) and not math.isnan(value_max) and not math.isnan(value_mean):\n",
    "                d[topic] = {'min': value_min, 'max': value_max, 'mean': value_mean}\n",
    "        \n",
    "        try:\n",
    "            week_values = convert_to_weeknumber_cossin(timestamp)\n",
    "            hour_values = convert_to_hour_cossin(timestamp)\n",
    "            yield (\n",
    "                (d[\"topic=Pfullingen/temperature\"]['mean'] - 20) / 35, \n",
    "                (d[\"topic=Pfullingen/hourlyrain\"]['mean']) / 10, \n",
    "                (d[\"topic=Pfullingen/windspeed\"]['mean']- 5) / 10,\n",
    "                (d[\"topic=Pfullingen/solarradiation\"]['max'] - 500) / 1000,\n",
    "                (d[\"topic=Pfullingen/solarradiation\"]['mean'] - 500) / 1000, \n",
    "                (d[\"topic=Pfullingen/pressure\"]['mean'] - 500) / 1000,\n",
    "                (d[\"topic=Pfullingen/winddir\"]['mean'] - 180) / 360,\n",
    "                (d[\"topic=Pfullingen/humidity\"]['mean'] - 50) / 100,\n",
    "                hour_values[0],\n",
    "                hour_values[1],\n",
    "                week_values[0],\n",
    "                week_values[1],\n",
    "                float((pres_value_north - 500) / 1000),\n",
    "                float((pres_value_east - 500) / 1000),\n",
    "                float((pres_value_south - 500) / 1000),\n",
    "                float((pres_value_west - 500) / 1000)\n",
    "                \n",
    "            )\n",
    "        except KeyError:\n",
    "            pass\n",
    "\n",
    "imported_data_raw = list(group_column(file1, north, east, south, west))"
   ]
  },
  {
   "cell_type": "code",
   "execution_count": 3,
   "id": "df9fc25b",
   "metadata": {},
   "outputs": [
    {
     "data": {
      "text/plain": [
       "torch.Size([18664, 16])"
      ]
     },
     "execution_count": 3,
     "metadata": {},
     "output_type": "execute_result"
    }
   ],
   "source": [
    "imported_data = torch.tensor(imported_data_raw)\n",
    "imported_data.shape"
   ]
  },
  {
   "cell_type": "code",
   "execution_count": 4,
   "id": "1818e27a",
   "metadata": {},
   "outputs": [
    {
     "data": {
      "text/plain": [
       "tensor([[-0.5623,  0.0000, -0.4503, -0.4905, -0.4959,  0.5218, -0.0951,  0.1236,\n",
       "          0.9977, -0.0682,  0.9646,  0.2636,  0.5167,  0.5231,  0.5189,  0.5240],\n",
       "        [-0.5514,  0.0000, -0.4613, -0.4615, -0.4729,  0.5216, -0.1363,  0.0977,\n",
       "          0.9423, -0.3349,  0.9646,  0.2636,  0.5169,  0.5228,  0.5189,  0.5240],\n",
       "        [-0.5324,  0.0000, -0.3787, -0.4511, -0.4634,  0.5213,  0.0450,  0.0240,\n",
       "          0.8170, -0.5767,  0.9646,  0.2636,  0.5172,  0.5223,  0.5189,  0.5250],\n",
       "        [-0.5236,  0.0000, -0.2948, -0.4475, -0.4516,  0.5212,  0.1367,  0.0164,\n",
       "          0.6311, -0.7757,  0.9646,  0.2636,  0.5176,  0.5218,  0.5188,  0.5240],\n",
       "        [-0.5098,  0.0000, -0.1940, -0.3434, -0.4163,  0.5210,  0.1091,  0.0210,\n",
       "          0.3984, -0.9172,  0.9646,  0.2636,  0.5178,  0.5210,  0.5183,  0.5240]])"
      ]
     },
     "execution_count": 4,
     "metadata": {},
     "output_type": "execute_result"
    }
   ],
   "source": [
    "imported_data[:5]"
   ]
  },
  {
   "cell_type": "code",
   "execution_count": 5,
   "id": "6b16f5c3",
   "metadata": {},
   "outputs": [],
   "source": [
    "import math\n",
    "import torch\n",
    "import torch.nn as nn\n",
    "import torch.optim as optim\n",
    "\n",
    "def generate_square_subsequent_mask(sz):\n",
    "    mask = torch.tril(torch.ones(sz, sz))\n",
    "    mask = mask.float().masked_fill(mask == 0, float('-inf')).masked_fill(mask == 1, float(0.0))\n",
    "    return mask\n",
    "\n",
    "class PositionalEncoder(nn.Module):\n",
    "    def __init__(self, d_model, max_seq_len):\n",
    "        super().__init__()\n",
    "        self.d_model = d_model\n",
    "\n",
    "        # Create constant 'pe' matrix with values dependant on pos and i\n",
    "        pe = torch.zeros(max_seq_len, d_model)\n",
    "        for pos in range(max_seq_len):\n",
    "            for i in range(0, d_model, 2):\n",
    "                pe[pos, i] = math.sin(pos / (10000 ** ((2 * i)/d_model)))\n",
    "                \n",
    "                if i + 1 < d_model:\n",
    "                    pe[pos, i + 1] = math.cos(pos / (10000 ** ((2 * (i + 1))/d_model)))\n",
    "                    \n",
    "        pe = pe.unsqueeze(0)\n",
    "        self.register_buffer('pe', pe)\n",
    "    \n",
    "    def forward(self, x):\n",
    "        # Make embeddings relatively larger\n",
    "        x = x * math.sqrt(self.d_model)\n",
    "        # Add constant to embedding\n",
    "        seq_len = x.size(1)\n",
    "        x = x + self.pe[:,:seq_len]\n",
    "        return x\n",
    "\n",
    "class TransformerBlock(nn.Module):\n",
    "    def __init__(self, k, heads):\n",
    "        super().__init__()\n",
    "\n",
    "        self.attention = nn.MultiheadAttention(k, heads)\n",
    "        self.norm1 = nn.LayerNorm(k)\n",
    "        self.norm2 = nn.LayerNorm(k)\n",
    "\n",
    "        self.ff = nn.Sequential(\n",
    "            nn.Linear(k, 4 * k),\n",
    "            nn.ReLU(),\n",
    "            nn.Linear(4 * k, k)\n",
    "        )\n",
    "\n",
    "    def forward(self, value, key, query):\n",
    "        att = self.attention(query, key, value)[0]\n",
    "        x = self.norm1(att + value)\n",
    "        ff = self.ff(x)\n",
    "        return self.norm2(ff + x)\n",
    "\n",
    "class Predictor(nn.Module):\n",
    "    def __init__(self, k, heads, depth, seq_length, num_features, max_seq_len=80):\n",
    "        super().__init__()\n",
    "        self.k = k\n",
    "        self.num_features = num_features\n",
    "        self.seq_length = seq_length\n",
    "\n",
    "        self.pos_encoder = PositionalEncoder(k, max_seq_len)\n",
    "\n",
    "        self.transformer_blocks = nn.ModuleList([\n",
    "            TransformerBlock(k, heads) for _ in range(depth)\n",
    "        ])\n",
    "\n",
    "        self.linear = nn.Linear(k, num_features)\n",
    "\n",
    "    def forward(self, x):\n",
    "        # x has shape (batch_size, seq_length, num_features)\n",
    "        x = x.permute(1, 0, 2)  # (seq_length, batch_size, num_features)\n",
    "\n",
    "        x = self.pos_encoder(x)  # Add positional encodings\n",
    "\n",
    "        # Apply the transformer blocks\n",
    "        for transformer in self.transformer_blocks:\n",
    "            x = transformer(x, x, x)\n",
    "\n",
    "        x = self.linear(x.permute(1, 0, 2).reshape(-1, self.k)) #this k should be d_model\n",
    "\n",
    "        return x.reshape(-1, self.seq_length, self.num_features)\n",
    "\n",
    "k = 16  # Dimension of transformer key/query/value vectors 10\n",
    "heads = 16  # Number of attention heads 2\n",
    "depth = 12 # Number of transformer blocks 2\n",
    "num_features = 16  # Number of input features (temperature, pressure)\n",
    "seq_length = 72  # Length of the sequence\n",
    "model = Predictor(k, heads, depth, seq_length, num_features)\n",
    "\n"
   ]
  },
  {
   "cell_type": "code",
   "execution_count": 6,
   "id": "a917d882",
   "metadata": {},
   "outputs": [],
   "source": [
    "def create_sequences(data, seq_length):\n",
    "    xs = []\n",
    "    ys = []\n",
    "\n",
    "    for i in range(data.size(0)-seq_length*2):\n",
    "        x = data[i:(i+seq_length)]\n",
    "        y = data[(i+seq_length):(i+seq_length*2)]\n",
    "        xs.append(x)\n",
    "        ys.append(y)\n",
    "\n",
    "    return torch.stack(xs), torch.stack(ys)\n",
    "\n"
   ]
  },
  {
   "cell_type": "code",
   "execution_count": 7,
   "id": "3e9a0b82",
   "metadata": {},
   "outputs": [
    {
     "name": "stdout",
     "output_type": "stream",
     "text": [
      "torch.Size([18520, 72, 16])\n",
      "torch.Size([18520, 72, 16])\n"
     ]
    }
   ],
   "source": [
    "X, y = create_sequences(imported_data, seq_length)\n",
    "print(X.shape)\n",
    "print(y.shape)"
   ]
  },
  {
   "cell_type": "code",
   "execution_count": 8,
   "id": "ba9d6b57",
   "metadata": {},
   "outputs": [],
   "source": [
    "from torch.utils.data import random_split\n",
    "from torch.utils.data import TensorDataset, DataLoader\n",
    "\n",
    "# Calculate split sizes\n",
    "num_samples = len(X)\n",
    "num_train = round(num_samples * 0.8)\n",
    "num_val = num_samples - num_train\n",
    "\n",
    "# Create data sets\n",
    "train_data, val_data = random_split(TensorDataset(X, y), [num_train, num_val])\n",
    "\n",
    "batch_size = 32\n",
    "\n",
    "# Create DataLoaders\n",
    "train_loader = DataLoader(train_data, batch_size=batch_size, shuffle=False)\n",
    "val_loader = DataLoader(val_data, batch_size=batch_size, shuffle=False)"
   ]
  },
  {
   "cell_type": "code",
   "execution_count": 9,
   "id": "5e712944",
   "metadata": {},
   "outputs": [],
   "source": [
    "model = Predictor(k, heads, depth, seq_length, num_features, max_seq_len=80).to(device)"
   ]
  },
  {
   "cell_type": "code",
   "execution_count": 10,
   "id": "541033b1",
   "metadata": {},
   "outputs": [],
   "source": [
    "#model.load_state_dict(torch.load('weather_pfullingen.pth'))"
   ]
  },
  {
   "cell_type": "code",
   "execution_count": 16,
   "id": "3fd6e636",
   "metadata": {},
   "outputs": [
    {
     "name": "stdout",
     "output_type": "stream",
     "text": [
      "Epoch [1/4], Train Loss: 0.0029\n",
      "Epoch [2/4], Train Loss: 0.0029\n",
      "Epoch [3/4], Train Loss: 0.0029\n",
      "Epoch [4/4], Train Loss: 0.0029\n",
      "Epoch [4/4], Validation Loss: 0.0030\n"
     ]
    }
   ],
   "source": [
    "# Training Loop\n",
    "num_epochs = 4\n",
    "model = model.to(device)\n",
    "criterion = nn.MSELoss()\n",
    "optimizer = optim.AdamW(model.parameters(), lr=1e-5)\n",
    "\n",
    "for epoch in range(num_epochs):\n",
    "    model.train()\n",
    "    for inputs, labels in train_loader:\n",
    "        # Move data to GPU if available\n",
    "        inputs, labels = inputs.to(device), labels.to(device)\n",
    "\n",
    "        optimizer.zero_grad()  # Reset gradients\n",
    "        outputs = model(inputs)  # Get model predictions for the inputs\n",
    "\n",
    "        # Compute the loss\n",
    "        loss = criterion(outputs, labels)\n",
    "        loss.backward()  # Backpropagate the loss\n",
    "        optimizer.step()  # Update the weights\n",
    "\n",
    "    print('Epoch [{}/{}], Train Loss: {:.4f}'.format(epoch+1, num_epochs, loss.item()))\n",
    "\n",
    "    # Validation phase\n",
    "    model.eval()\n",
    "    with torch.no_grad():\n",
    "        val_losses = []\n",
    "        for inputs, labels in val_loader:\n",
    "            inputs, labels = inputs.to(device), labels.to(device)\n",
    "            outputs = model(inputs)\n",
    "            val_loss = criterion(outputs, labels)\n",
    "            val_losses.append(val_loss.item())\n",
    "\n",
    "    avg_val_loss = sum(val_losses) / len(val_losses)\n",
    "print('Epoch [{}/{}], Validation Loss: {:.4f}'.format(epoch+1, num_epochs, avg_val_loss))\n",
    "#best was 0.0050"
   ]
  },
  {
   "cell_type": "code",
   "execution_count": 17,
   "id": "18d6a0eb",
   "metadata": {},
   "outputs": [
    {
     "name": "stdout",
     "output_type": "stream",
     "text": [
      "torch.Size([1, 72, 16])\n",
      "tensor([13.6949, 14.6224, 15.4818, 15.9028, 16.4778, 15.4732, 14.8828, 14.4209,\n",
      "        14.2589, 13.9722, 13.4038, 13.0323, 12.6839, 12.3856, 12.0704, 11.6839,\n",
      "        11.3051, 10.8856, 10.6134, 10.6094, 11.1284, 11.6730, 12.0700, 11.9807],\n",
      "       device='cuda:0')\n"
     ]
    }
   ],
   "source": [
    "test_data = torch.load('imported_data_raw.pt').to(device)\n",
    "test_data = test_data[-seq_length:]\n",
    "test_data = test_data.view(1,seq_length,num_features)\n",
    "print(test_data.shape)\n",
    "print(test_data[0, :24, 0]*35+20)"
   ]
  },
  {
   "cell_type": "code",
   "execution_count": 18,
   "id": "75cb2758",
   "metadata": {},
   "outputs": [
    {
     "data": {
      "text/plain": [
       "Predictor(\n",
       "  (pos_encoder): PositionalEncoder()\n",
       "  (transformer_blocks): ModuleList(\n",
       "    (0-11): 12 x TransformerBlock(\n",
       "      (attention): MultiheadAttention(\n",
       "        (out_proj): NonDynamicallyQuantizableLinear(in_features=16, out_features=16, bias=True)\n",
       "      )\n",
       "      (norm1): LayerNorm((16,), eps=1e-05, elementwise_affine=True)\n",
       "      (norm2): LayerNorm((16,), eps=1e-05, elementwise_affine=True)\n",
       "      (ff): Sequential(\n",
       "        (0): Linear(in_features=16, out_features=64, bias=True)\n",
       "        (1): ReLU()\n",
       "        (2): Linear(in_features=64, out_features=16, bias=True)\n",
       "      )\n",
       "    )\n",
       "  )\n",
       "  (linear): Linear(in_features=16, out_features=16, bias=True)\n",
       ")"
      ]
     },
     "execution_count": 18,
     "metadata": {},
     "output_type": "execute_result"
    }
   ],
   "source": [
    "model.eval()\n",
    "output = model(test_data)\n",
    "model.train()"
   ]
  },
  {
   "cell_type": "code",
   "execution_count": 28,
   "id": "a53bf527",
   "metadata": {},
   "outputs": [],
   "source": [
    "temperature = output[0, :, 0]*35+20\n",
    "sol_max =     output[0, :, 3]*1000+500\n",
    "sol_mean =    output[0, :, 4]*1000+500\n",
    "wind =        output[0, :, 2]*10+5\n",
    "rain =        output[0, :, 2]*10\n",
    "# Convert tensors to numpy arrays for plotting\n",
    "temperature = temperature.cpu().detach().numpy()\n",
    "sol_max = sol_max.cpu().detach().numpy()\n",
    "sol_mean = sol_mean.cpu().detach().numpy()\n",
    "wind = wind.cpu().detach().numpy()\n",
    "rain = rain.cpu().detach().numpy()"
   ]
  },
  {
   "cell_type": "code",
   "execution_count": 29,
   "id": "d2ccab95",
   "metadata": {},
   "outputs": [
    {
     "data": {
      "image/png": "[encoded data removed]",
      "text/plain": [
       "<Figure size 1200x600 with 1 Axes>"
      ]
     },
     "metadata": {},
     "output_type": "display_data"
    },
    {
     "name": "stdout",
     "output_type": "stream",
     "text": [
      "[ 7.81355347e+02  6.62561401e+02  7.05471130e+02  3.04156464e+02\n",
      "  2.78328186e+02  4.43240967e+02  3.16682526e+02  2.35151459e+02\n",
      "  1.14720490e+02  2.89315491e+01  8.84707642e+00 -5.22491455e-01\n",
      "  2.77725220e+00  3.94860840e+00  9.92593384e+00  8.75820923e+00\n",
      "  6.47763062e+00  7.46438599e+00  1.11143799e+01  4.94924316e+01\n",
      "  2.01087219e+02  4.08540894e+02  5.79481628e+02  7.01241577e+02\n",
      "  5.59785217e+02  5.58718628e+02  5.69673462e+02  6.93429504e+02\n",
      "  5.99934570e+02  5.28910889e+02  4.47625946e+02  2.54101624e+02\n",
      "  1.22717896e+02  3.18094788e+01  8.52206421e+00  1.24019775e+01\n",
      "  7.42581177e+00  6.49627686e+00  2.97668457e+00  3.29406738e-01\n",
      "  2.97436523e+00  4.78659058e+00  1.22943726e+01  4.79295654e+01\n",
      "  1.32755554e+02  2.99272400e+02  4.34637238e+02  5.43553467e+02\n",
      "  7.52713623e+02  7.65455444e+02  5.62638550e+02  4.76843506e+02\n",
      "  2.79511688e+02  2.42745483e+02  1.85663666e+02  6.81972656e+01\n",
      "  1.44625244e+01  2.56607056e+00  7.59616089e+00  8.27685547e+00\n",
      "  8.62805176e+00  4.35034180e+00  2.50979614e+00  4.88076782e+00\n",
      "  1.05513000e+01  1.19539795e+01  5.09039917e+01  1.13755371e+02\n",
      "  2.68473480e+02  5.09587341e+02  6.33508728e+02  7.85547852e+02]\n"
     ]
    }
   ],
   "source": [
    "import matplotlib.pyplot as plt\n",
    "\n",
    "\n",
    "\n",
    "plt.figure(figsize=(12, 6))\n",
    "\n",
    "# Plotting the values\n",
    "plt.plot(temperature, label='temperature')\n",
    "#plt.plot(rain, label='rain')\n",
    "#plt.plot(sol_max, label='sol_max')\n",
    "#plt.plot(sol_mean, label='sol_mean')\n",
    "#plt.plot(wind, label='wind')\n",
    "\n",
    "plt.title('Forecast Values')\n",
    "plt.xlabel('Index')\n",
    "plt.ylabel('Value')\n",
    "plt.ylim([0, 30])\n",
    "plt.legend()\n",
    "\n",
    "plt.show()\n",
    "\n",
    "print(sol_max)\n"
   ]
  },
  {
   "cell_type": "code",
   "execution_count": 26,
   "id": "3b5fb993",
   "metadata": {},
   "outputs": [],
   "source": [
    "torch.save(model.state_dict(), 'weather_pfullingen.pth')"
   ]
  },
  {
   "cell_type": "code",
   "execution_count": 25,
   "id": "6a8b9fcb",
   "metadata": {},
   "outputs": [
    {
     "name": "stdout",
     "output_type": "stream",
     "text": [
      "0 24.25092315673828\n",
      "1 22.14498519897461\n",
      "2 23.33417320251465\n",
      "3 19.920251846313477\n",
      "4 20.249547958374023\n",
      "5 24.490070343017578\n",
      "6 24.185962677001953\n",
      "7 24.53146743774414\n",
      "8 22.39141273498535\n",
      "9 20.180889129638672\n",
      "10 19.60460662841797\n",
      "11 17.763294219970703\n",
      "12 16.120222091674805\n",
      "13 16.321491241455078\n",
      "14 16.064865112304688\n",
      "15 16.588191986083984\n",
      "16 15.731671333312988\n",
      "17 14.73770523071289\n",
      "18 13.983736991882324\n",
      "19 13.898340225219727\n",
      "20 17.344844818115234\n",
      "21 18.97541618347168\n",
      "22 20.77316665649414\n",
      "23 21.36025619506836\n",
      "24 20.449228286743164\n",
      "25 21.194623947143555\n",
      "26 21.495031356811523\n",
      "27 25.01914405822754\n",
      "28 25.424924850463867\n",
      "29 25.993789672851562\n",
      "30 25.610788345336914\n",
      "31 24.119897842407227\n",
      "32 22.87637710571289\n",
      "33 21.664825439453125\n",
      "34 20.328031539916992\n",
      "35 19.29500961303711\n",
      "36 17.729455947875977\n",
      "37 17.700695037841797\n",
      "38 15.965675354003906\n",
      "39 15.0931396484375\n",
      "40 14.52330207824707\n",
      "41 13.931970596313477\n",
      "42 13.765626907348633\n",
      "43 14.426069259643555\n",
      "44 15.45541000366211\n",
      "45 17.297094345092773\n",
      "46 18.751131057739258\n",
      "47 19.89547348022461\n",
      "48 23.000215530395508\n",
      "49 23.94016456604004\n",
      "50 22.11808967590332\n",
      "51 21.75973129272461\n",
      "52 20.360206604003906\n",
      "53 21.43397331237793\n",
      "54 21.58665657043457\n",
      "55 19.3017520904541\n",
      "56 18.247159957885742\n",
      "57 18.489145278930664\n",
      "58 17.500999450683594\n",
      "59 16.465335845947266\n",
      "60 17.014806747436523\n",
      "61 15.877982139587402\n",
      "62 15.104188919067383\n",
      "63 14.602118492126465\n",
      "64 14.18428897857666\n",
      "65 13.930893898010254\n",
      "66 14.62580680847168\n",
      "67 14.997594833374023\n",
      "68 17.2198429107666\n",
      "69 20.379043579101562\n",
      "70 21.677474975585938\n",
      "71 23.179431915283203\n"
     ]
    }
   ],
   "source": [
    "temperature = output[0, :, 0]*35+20\n",
    "sol_max =     output[0, :, 3]*1000+500\n",
    "sol_mean =    output[0, :, 4]*1000+500\n",
    "wind =        output[0, :, 2]*10+5\n",
    "for i, temp in enumerate(temperature):\n",
    "    print(i, temp.item())"
   ]
  },
  {
   "cell_type": "code",
   "execution_count": null,
   "id": "9a16315e",
   "metadata": {},
   "outputs": [],
   "source": []
  }
 ],
 "metadata": {
  "kernelspec": {
   "display_name": "Python 3 (ipykernel)",
   "language": "python",
   "name": "python3"
  },
  "language_info": {
   "codemirror_mode": {
    "name": "ipython",
    "version": 3
   },
   "file_extension": ".py",
   "mimetype": "text/x-python",
   "name": "python",
   "nbconvert_exporter": "python",
   "pygments_lexer": "ipython3",
   "version": "3.9.16"
  }
 },
 "nbformat": 4,
 "nbformat_minor": 5
}
