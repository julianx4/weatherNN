{
 "cells": [
  {
   "cell_type": "code",
   "execution_count": 8,
   "id": "bec6d6af",
   "metadata": {},
   "outputs": [],
   "source": [
    "import os\n",
    "os.environ['TF_CPP_MIN_LOG_LEVEL'] = '2'\n",
    "import torch\n",
    "import torch.nn as nn\n",
    "from torch.nn import functional as F\n",
    "from itertools import groupby\n",
    "from operator import itemgetter\n",
    "import datetime\n",
    "import math\n",
    "import pandas as pd\n",
    "import numpy as np\n",
    "import pytz\n",
    "\n",
    "file1 = \"all_training_data_sorted.csv\"\n",
    "north = 'data_north_p.csv'\n",
    "east = 'data_east_p.csv'\n",
    "south = 'data_south_p.csv'\n",
    "west = 'data_west_p.csv'\n",
    "device = 'cuda'\n",
    "\n",
    "tz = pytz.timezone('Europe/Berlin')\n",
    "\n",
    "def convert_to_weeknumber_cossin(timestamp):\n",
    "    date = datetime.datetime.fromtimestamp(timestamp)\n",
    "    dt_local = date.astimezone(tz)\n",
    "    week_number = dt_local.isocalendar()[1]\n",
    "    sin_week = np.sin(2*np.pi*week_number/53).astype(np.float32)\n",
    "    cos_week = np.cos(2*np.pi*week_number/53).astype(np.float32)\n",
    "    return sin_week, cos_week\n",
    "\n",
    "def convert_to_hour_cossin(timestamp):\n",
    "    date = datetime.datetime.fromtimestamp(timestamp)\n",
    "    dt_local = date.astimezone(tz)\n",
    "    hour = dt_local.hour\n",
    "    sin_hour = np.sin(2*np.pi*hour/24).astype(np.float32)\n",
    "    cos_hour = np.cos(2*np.pi*hour/24).astype(np.float32)\n",
    "    return sin_hour, cos_hour\n",
    "\n",
    "\n",
    "def closest_timestamp(data, timestamp):\n",
    "    closest_timestamp = min(data.keys(), key=lambda t: abs(t - timestamp))\n",
    "    return data[closest_timestamp]\n",
    "\n",
    "def read_csv(file):\n",
    "    data = pd.read_csv(file)\n",
    "    for index, row in data.iterrows():\n",
    "        yield row['time'] / 1_000_000_000, row['tags'], row['min'], row['max'], row['mean'] \n",
    "\n",
    "def read_csv_meteostat(file):\n",
    "    data = pd.read_csv(file)\n",
    "    timestamp_dict = {}\n",
    "    for index, row in data.iterrows():\n",
    "        if not pd.isna(row['time']) and not pd.isna(row['pres']):\n",
    "            timestamp = row['time'] / 1_000_000_000\n",
    "            timestamp_dict[timestamp] = row['pres']                            \n",
    "    return timestamp_dict\n",
    "\n",
    "def group_column(file, north, east, south, west):\n",
    "    meteostat_data_north = read_csv_meteostat(north)\n",
    "    meteostat_data_east = read_csv_meteostat(east)\n",
    "    meteostat_data_south = read_csv_meteostat(south)\n",
    "    meteostat_data_west = read_csv_meteostat(west)\n",
    "    \n",
    "    for timestamp, values in groupby(read_csv(file), key=itemgetter(0)):\n",
    "        pres_value_north = closest_timestamp(meteostat_data_north, timestamp)\n",
    "        pres_value_east = closest_timestamp(meteostat_data_east, timestamp)\n",
    "        pres_value_south = closest_timestamp(meteostat_data_south, timestamp)\n",
    "        pres_value_west = closest_timestamp(meteostat_data_west, timestamp)\n",
    "        \n",
    "        d = {}\n",
    "        for (_, topic, value_min, value_max, value_mean) in values:\n",
    "            if not math.isnan(value_min) and not math.isnan(value_max) and not math.isnan(value_mean):\n",
    "                d[topic] = {'min': value_min, 'max': value_max, 'mean': value_mean}\n",
    "        \n",
    "        try:\n",
    "            week_values = convert_to_weeknumber_cossin(timestamp)\n",
    "            hour_values = convert_to_hour_cossin(timestamp)\n",
    "            yield (\n",
    "                (d[\"topic=Pfullingen/temperature\"]['mean'] - 20) / 35, \n",
    "                (d[\"topic=Pfullingen/hourlyrain\"]['mean']) / 10, \n",
    "                (d[\"topic=Pfullingen/windspeed\"]['mean']- 5) / 10,\n",
    "                (d[\"topic=Pfullingen/solarradiation\"]['max'] - 500) / 1000,\n",
    "                (d[\"topic=Pfullingen/solarradiation\"]['mean'] - 500) / 1000, \n",
    "                (d[\"topic=Pfullingen/pressure\"]['mean'] - 500) / 1000,\n",
    "                (d[\"topic=Pfullingen/winddir\"]['mean'] - 180) / 360,\n",
    "                (d[\"topic=Pfullingen/humidity\"]['mean'] - 50) / 100,\n",
    "                hour_values[0],\n",
    "                hour_values[1],\n",
    "                week_values[0],\n",
    "                week_values[1],\n",
    "                float((pres_value_north - 500) / 1000),\n",
    "                float((pres_value_east - 500) / 1000),\n",
    "                float((pres_value_south - 500) / 1000),\n",
    "                float((pres_value_west - 500) / 1000)\n",
    "                \n",
    "            )\n",
    "        except KeyError:\n",
    "            pass\n",
    "\n"
   ]
  },
  {
   "cell_type": "code",
   "execution_count": 22,
   "id": "df9fc25b",
   "metadata": {},
   "outputs": [
    {
     "data": {
      "text/plain": [
       "torch.Size([18664, 16])"
      ]
     },
     "execution_count": 22,
     "metadata": {},
     "output_type": "execute_result"
    }
   ],
   "source": [
    "imported_data_raw = list(group_column(file1, north, east, south, west))\n",
    "imported_data = torch.tensor(imported_data_raw)\n",
    "imported_data.shape"
   ]
  },
  {
   "cell_type": "code",
   "execution_count": 23,
   "id": "1818e27a",
   "metadata": {},
   "outputs": [
    {
     "data": {
      "text/plain": [
       "tensor([[-5.6225e-01,  0.0000e+00, -4.5033e-01, -4.9046e-01, -4.9588e-01,\n",
       "          5.2175e-01, -9.5078e-02,  1.2356e-01,  1.0000e+00,  6.1232e-17,\n",
       "          9.6464e-01,  2.6359e-01,  5.1670e-01,  5.2310e-01,  5.1890e-01,\n",
       "          5.2400e-01],\n",
       "        [-5.5140e-01,  0.0000e+00, -4.6132e-01, -4.6147e-01, -4.7288e-01,\n",
       "          5.2159e-01, -1.3631e-01,  9.7692e-02,  9.6593e-01, -2.5882e-01,\n",
       "          9.6464e-01,  2.6359e-01,  5.1690e-01,  5.2280e-01,  5.1890e-01,\n",
       "          5.2400e-01],\n",
       "        [-5.3241e-01,  0.0000e+00, -3.7868e-01, -4.5107e-01, -4.6345e-01,\n",
       "          5.2132e-01,  4.5037e-02,  2.3951e-02,  8.6603e-01, -5.0000e-01,\n",
       "          9.6464e-01,  2.6359e-01,  5.1720e-01,  5.2230e-01,  5.1890e-01,\n",
       "          5.2500e-01],\n",
       "        [-5.2361e-01,  0.0000e+00, -2.9481e-01, -4.4752e-01, -4.5164e-01,\n",
       "          5.2123e-01,  1.3667e-01,  1.6364e-02,  7.0711e-01, -7.0711e-01,\n",
       "          9.6464e-01,  2.6359e-01,  5.1760e-01,  5.2180e-01,  5.1880e-01,\n",
       "          5.2400e-01],\n",
       "        [-5.0978e-01,  0.0000e+00, -1.9398e-01, -3.4341e-01, -4.1634e-01,\n",
       "          5.2101e-01,  1.0910e-01,  2.0959e-02,  5.0000e-01, -8.6603e-01,\n",
       "          9.6464e-01,  2.6359e-01,  5.1780e-01,  5.2100e-01,  5.1830e-01,\n",
       "          5.2400e-01]])"
      ]
     },
     "execution_count": 23,
     "metadata": {},
     "output_type": "execute_result"
    }
   ],
   "source": [
    "imported_data[:5]"
   ]
  },
  {
   "cell_type": "code",
   "execution_count": 9,
   "id": "6b16f5c3",
   "metadata": {},
   "outputs": [],
   "source": [
    "import math\n",
    "import torch\n",
    "import torch.nn as nn\n",
    "import torch.optim as optim\n",
    "\n",
    "def generate_square_subsequent_mask(sz):\n",
    "    mask = torch.tril(torch.ones(sz, sz))\n",
    "    mask = mask.float().masked_fill(mask == 0, float('-inf')).masked_fill(mask == 1, float(0.0))\n",
    "    return mask\n",
    "\n",
    "class PositionalEncoder(nn.Module):\n",
    "    def __init__(self, d_model, max_seq_len):\n",
    "        super().__init__()\n",
    "        self.d_model = d_model\n",
    "\n",
    "        # Create constant 'pe' matrix with values dependant on pos and i\n",
    "        pe = torch.zeros(max_seq_len, d_model)\n",
    "        for pos in range(max_seq_len):\n",
    "            for i in range(0, d_model, 2):\n",
    "                pe[pos, i] = math.sin(pos / (10000 ** ((2 * i)/d_model)))\n",
    "                \n",
    "                if i + 1 < d_model:\n",
    "                    pe[pos, i + 1] = math.cos(pos / (10000 ** ((2 * (i + 1))/d_model)))\n",
    "                    \n",
    "        pe = pe.unsqueeze(0)\n",
    "        self.register_buffer('pe', pe)\n",
    "    \n",
    "    def forward(self, x):\n",
    "        # Make embeddings relatively larger\n",
    "        x = x * math.sqrt(self.d_model)\n",
    "        # Add constant to embedding\n",
    "        seq_len = x.size(1)\n",
    "        x = x + self.pe[:,:seq_len]\n",
    "        return x\n",
    "\n",
    "class TransformerBlock(nn.Module):\n",
    "    def __init__(self, k, heads):\n",
    "        super().__init__()\n",
    "\n",
    "        self.attention = nn.MultiheadAttention(k, heads)\n",
    "        self.norm1 = nn.LayerNorm(k)\n",
    "        self.norm2 = nn.LayerNorm(k)\n",
    "\n",
    "        self.ff = nn.Sequential(\n",
    "            nn.Linear(k, 4 * k),\n",
    "            nn.ReLU(),\n",
    "            nn.Linear(4 * k, k)\n",
    "        )\n",
    "\n",
    "    def forward(self, value, key, query, mask=None):\n",
    "        if mask is not None:\n",
    "            att = self.attention(query, key, value, attn_mask=mask)[0]\n",
    "        else:\n",
    "            att = self.attention(query, key, value)[0]\n",
    "        x = self.norm1(att + value)\n",
    "        ff = self.ff(x)\n",
    "        return self.norm2(ff + x)\n",
    "\n",
    "class Predictor(nn.Module):\n",
    "    def __init__(self, k, heads, depth, seq_length, num_features, max_seq_len=80):\n",
    "        super().__init__()\n",
    "        self.k = k\n",
    "        self.num_features = num_features\n",
    "        self.seq_length = seq_length\n",
    "\n",
    "        self.pos_encoder = PositionalEncoder(k, max_seq_len)\n",
    "\n",
    "        self.transformer_blocks = nn.ModuleList([\n",
    "            TransformerBlock(k, heads) for _ in range(depth)\n",
    "        ])\n",
    "\n",
    "        self.linear = nn.Linear(k, num_features)\n",
    "\n",
    "    def forward(self, x):\n",
    "        # x has shape (batch_size, seq_length, num_features)\n",
    "        x = x.permute(1, 0, 2)  # (seq_length, batch_size, num_features)\n",
    "        x = self.pos_encoder(x)  # Add positional encodings\n",
    "\n",
    "        mask = generate_square_subsequent_mask(x.size(0)).to(x.device)\n",
    "\n",
    "        # Apply the transformer blocks\n",
    "        for transformer in self.transformer_blocks:\n",
    "            x = transformer(x, x, x, mask)\n",
    "\n",
    "        x = self.linear(x.permute(1, 0, 2).reshape(-1, self.k))\n",
    "\n",
    "        return x.reshape(-1, self.seq_length, self.num_features)\n",
    "\n",
    "k = 16  # Dimension of transformer key/query/value vectors 10\n",
    "heads = 16  # Number of attention heads 2\n",
    "depth = 12 # Number of transformer blocks 2\n",
    "num_features = 16  # Number of input features (temperature, pressure)\n",
    "seq_length = 72  # Length of the sequence\n",
    "model = Predictor(k, heads, depth, seq_length, num_features)\n",
    "\n"
   ]
  },
  {
   "cell_type": "code",
   "execution_count": 1,
   "id": "a917d882",
   "metadata": {},
   "outputs": [],
   "source": [
    "def create_sequences(data, seq_length):\n",
    "    xs = []\n",
    "    ys = []\n",
    "\n",
    "    for i in range(data.size(0)-seq_length*2):\n",
    "        x = data[i:(i+seq_length)]\n",
    "        y = data[(i+seq_length):(i+seq_length*2)]\n",
    "        xs.append(x)\n",
    "        ys.append(y)\n",
    "\n",
    "    return torch.stack(xs), torch.stack(ys)\n",
    "\n"
   ]
  },
  {
   "cell_type": "code",
   "execution_count": 3,
   "id": "3e9a0b82",
   "metadata": {},
   "outputs": [
    {
     "ename": "NameError",
     "evalue": "name 'imported_data' is not defined",
     "output_type": "error",
     "traceback": [
      "\u001b[0;31m---------------------------------------------------------------------------\u001b[0m",
      "\u001b[0;31mNameError\u001b[0m                                 Traceback (most recent call last)",
      "Cell \u001b[0;32mIn[3], line 1\u001b[0m\n\u001b[0;32m----> 1\u001b[0m X, y \u001b[38;5;241m=\u001b[39m create_sequences(\u001b[43mimported_data\u001b[49m, seq_length)\n\u001b[1;32m      2\u001b[0m \u001b[38;5;28mprint\u001b[39m(X\u001b[38;5;241m.\u001b[39mshape)\n\u001b[1;32m      3\u001b[0m \u001b[38;5;28mprint\u001b[39m(y\u001b[38;5;241m.\u001b[39mshape)\n",
      "\u001b[0;31mNameError\u001b[0m: name 'imported_data' is not defined"
     ]
    }
   ],
   "source": [
    "X, y = create_sequences(imported_data, seq_length)\n",
    "print(X.shape)\n",
    "print(y.shape)"
   ]
  },
  {
   "cell_type": "code",
   "execution_count": 27,
   "id": "ba9d6b57",
   "metadata": {},
   "outputs": [],
   "source": [
    "from torch.utils.data import random_split\n",
    "from torch.utils.data import TensorDataset, DataLoader\n",
    "\n",
    "# Calculate split sizes\n",
    "num_samples = len(X)\n",
    "num_train = round(num_samples * 0.8)\n",
    "num_val = num_samples - num_train\n",
    "\n",
    "# Create data sets\n",
    "train_data, val_data = random_split(TensorDataset(X, y), [num_train, num_val])\n",
    "\n",
    "batch_size = 32\n",
    "\n",
    "# Create DataLoaders\n",
    "train_loader = DataLoader(train_data, batch_size=batch_size, shuffle=False)\n",
    "val_loader = DataLoader(val_data, batch_size=batch_size, shuffle=False)"
   ]
  },
  {
   "cell_type": "code",
   "execution_count": 10,
   "id": "5e712944",
   "metadata": {},
   "outputs": [],
   "source": [
    "model = Predictor(k, heads, depth, seq_length, num_features, max_seq_len=80).to(device)"
   ]
  },
  {
   "cell_type": "code",
   "execution_count": 11,
   "id": "541033b1",
   "metadata": {},
   "outputs": [
    {
     "data": {
      "text/plain": [
       "<All keys matched successfully>"
      ]
     },
     "execution_count": 11,
     "metadata": {},
     "output_type": "execute_result"
    }
   ],
   "source": [
    "model.load_state_dict(torch.load('weather_pfullingen.pth'))"
   ]
  },
  {
   "cell_type": "code",
   "execution_count": 33,
   "id": "3fd6e636",
   "metadata": {},
   "outputs": [
    {
     "name": "stdout",
     "output_type": "stream",
     "text": [
      "Epoch [1/1], Train Loss: 0.0049\n",
      "Epoch [1/1], Validation Loss: 0.0034\n"
     ]
    }
   ],
   "source": [
    "# Training Loop\n",
    "num_epochs = 1\n",
    "model = model.to(device)\n",
    "criterion = nn.MSELoss()\n",
    "optimizer = optim.AdamW(model.parameters(), lr=1e-5)\n",
    "\n",
    "for epoch in range(num_epochs):\n",
    "    model.train()\n",
    "    for inputs, labels in train_loader:\n",
    "        # Move data to GPU if available\n",
    "        inputs, labels = inputs.to(device), labels.to(device)\n",
    "\n",
    "        optimizer.zero_grad()  # Reset gradients\n",
    "        outputs = model(inputs)  # Get model predictions for the inputs\n",
    "\n",
    "        # Compute the loss\n",
    "        # Compute the loss\n",
    "        # loss = weighted_temporal_loss(outputs[:,:24,:], labels[:,:24,:], feature_weights)\n",
    "        loss = criterion(outputs[:,:24,:], labels[:,:24,:])\n",
    "        #loss = criterion(outputs, labels)\n",
    "\n",
    "        # Backpropagation and optimization\n",
    "        loss.backward()\n",
    "        optimizer.step()\n",
    "       \n",
    "\n",
    "    print('Epoch [{}/{}], Train Loss: {:.4f}'.format(epoch+1, num_epochs, loss.item()))\n",
    "\n",
    "    # Validation phase\n",
    "    model.eval()\n",
    "    with torch.no_grad():\n",
    "        val_losses = []\n",
    "        for inputs, labels in val_loader:\n",
    "            inputs, labels = inputs.to(device), labels.to(device)\n",
    "            outputs = model(inputs)\n",
    "            val_loss = criterion(outputs, labels)\n",
    "            val_losses.append(val_loss.item())\n",
    "\n",
    "    avg_val_loss = sum(val_losses) / len(val_losses)\n",
    "print('Epoch [{}/{}], Validation Loss: {:.4f}'.format(epoch+1, num_epochs, avg_val_loss))\n",
    "#best was 0.0030"
   ]
  },
  {
   "cell_type": "code",
   "execution_count": 12,
   "id": "18d6a0eb",
   "metadata": {},
   "outputs": [],
   "source": [
    "file1_forecast = \"test_sorted.csv\"\n",
    "north_forecast = 'data_north_p_test_latest.csv'\n",
    "east_forecast = 'data_east_p_test_latest.csv'\n",
    "south_forecast = 'data_south_p_test_latest.csv'\n",
    "west_forecast = 'data_west_p_test_latest.csv'"
   ]
  },
  {
   "cell_type": "code",
   "execution_count": 20,
   "id": "739fed81",
   "metadata": {},
   "outputs": [],
   "source": [
    "file1_forecast = \"test_before_coldfront_sorted.csv\"\n",
    "north_forecast = 'data_north_p_test_latest_before_coldfront.csv'\n",
    "east_forecast = 'data_east_p_test_latest_before_coldfront.csv'\n",
    "south_forecast = 'data_south_p_test_latest_before_coldfront.csv'\n",
    "west_forecast = 'data_west_p_test_latest_before_coldfront.csv'"
   ]
  },
  {
   "cell_type": "code",
   "execution_count": 21,
   "id": "75cb2758",
   "metadata": {},
   "outputs": [
    {
     "data": {
      "text/plain": [
       "Predictor(\n",
       "  (pos_encoder): PositionalEncoder()\n",
       "  (transformer_blocks): ModuleList(\n",
       "    (0-11): 12 x TransformerBlock(\n",
       "      (attention): MultiheadAttention(\n",
       "        (out_proj): NonDynamicallyQuantizableLinear(in_features=16, out_features=16, bias=True)\n",
       "      )\n",
       "      (norm1): LayerNorm((16,), eps=1e-05, elementwise_affine=True)\n",
       "      (norm2): LayerNorm((16,), eps=1e-05, elementwise_affine=True)\n",
       "      (ff): Sequential(\n",
       "        (0): Linear(in_features=16, out_features=64, bias=True)\n",
       "        (1): ReLU()\n",
       "        (2): Linear(in_features=64, out_features=16, bias=True)\n",
       "      )\n",
       "    )\n",
       "  )\n",
       "  (linear): Linear(in_features=16, out_features=16, bias=True)\n",
       ")"
      ]
     },
     "execution_count": 21,
     "metadata": {},
     "output_type": "execute_result"
    }
   ],
   "source": [
    "model.eval()\n",
    "imported_data_raw = list(group_column(file1_forecast, north_forecast, east_forecast, south_forecast, west_forecast))\n",
    "imported_data = torch.tensor(imported_data_raw, device=device)\n",
    "eval_data = imported_data[-seq_length:]\n",
    "eval_data = eval_data.view(1,seq_length,num_features)\n",
    "output = model(eval_data)\n",
    "model.train()"
   ]
  },
  {
   "cell_type": "code",
   "execution_count": 22,
   "id": "a53bf527",
   "metadata": {},
   "outputs": [],
   "source": [
    "temperature = output[0, :, 0]*35+20\n",
    "sol_max =     output[0, :, 3]*1000+500\n",
    "sol_mean =    output[0, :, 4]*1000+500\n",
    "wind =        output[0, :, 2]*10+5\n",
    "rain =        output[0, :, 2]*10\n",
    "press =       output[0, :, 5]*1000+500\n",
    "winddir =     output[0, :, 6]*360+180\n",
    "humidty =     output[0, :, 7]*100+50\n",
    "hourv =       output[0, :, 8]\n",
    "# Convert tensors to numpy arrays for plotting\n",
    "temperature = temperature.cpu().detach().numpy()\n",
    "sol_max = sol_max.cpu().detach().numpy()\n",
    "sol_mean = sol_mean.cpu().detach().numpy()\n",
    "wind = wind.cpu().detach().numpy()\n",
    "rain = rain.cpu().detach().numpy()\n",
    "hourv = hourv.cpu().detach().numpy()\n",
    "press = press.cpu().detach().numpy()\n",
    "winddir = winddir.cpu().detach().numpy()\n",
    "humidty = humidty.cpu().detach().numpy()"
   ]
  },
  {
   "cell_type": "code",
   "execution_count": 23,
   "id": "d2ccab95",
   "metadata": {},
   "outputs": [
    {
     "data": {
      "text/plain": [
       "Text(0, 0.5, 'Temperature')"
      ]
     },
     "execution_count": 23,
     "metadata": {},
     "output_type": "execute_result"
    },
    {
     "data": {
      "image/png": "[encoded data removed]",
      "text/plain": [
       "<Figure size 640x480 with 1 Axes>"
      ]
     },
     "metadata": {},
     "output_type": "display_data"
    }
   ],
   "source": [
    "input_temperature = eval_data.view(72,16)[:,0]*35+20\n",
    "temperature = output[0, :, 0]*35+20\n",
    "forecast_temperature = temperature.cpu().detach().numpy()\n",
    "input_temperature = input_temperature.cpu().detach().numpy()\n",
    "\n",
    "import matplotlib.pyplot as plt\n",
    "# Generate x-axis values for the plots\n",
    "x_input = range(len(input_temperature))\n",
    "x_forecast = range(len(input_temperature), len(input_temperature) + len(forecast_temperature))\n",
    "\n",
    "# Plot input_temperature in blue\n",
    "plt.plot(x_input, input_temperature, color='blue', label='Input Temperature')\n",
    "\n",
    "# Plot forecast_temperature in red\n",
    "plt.plot(x_forecast, forecast_temperature, color='red', label='Forecast Temperature')\n",
    "\n",
    "# Set labels and title\n",
    "plt.xlabel('Time')\n",
    "plt.ylabel('Temperature')"
   ]
  },
  {
   "cell_type": "code",
   "execution_count": 128,
   "id": "3b5fb993",
   "metadata": {},
   "outputs": [],
   "source": [
    "torch.save(model.state_dict(), 'weather_pfullingen_temp.pth')"
   ]
  },
  {
   "cell_type": "code",
   "execution_count": 25,
   "id": "6a8b9fcb",
   "metadata": {},
   "outputs": [
    {
     "name": "stdout",
     "output_type": "stream",
     "text": [
      "0 24.25092315673828\n",
      "1 22.14498519897461\n",
      "2 23.33417320251465\n",
      "3 19.920251846313477\n",
      "4 20.249547958374023\n",
      "5 24.490070343017578\n",
      "6 24.185962677001953\n",
      "7 24.53146743774414\n",
      "8 22.39141273498535\n",
      "9 20.180889129638672\n",
      "10 19.60460662841797\n",
      "11 17.763294219970703\n",
      "12 16.120222091674805\n",
      "13 16.321491241455078\n",
      "14 16.064865112304688\n",
      "15 16.588191986083984\n",
      "16 15.731671333312988\n",
      "17 14.73770523071289\n",
      "18 13.983736991882324\n",
      "19 13.898340225219727\n",
      "20 17.344844818115234\n",
      "21 18.97541618347168\n",
      "22 20.77316665649414\n",
      "23 21.36025619506836\n",
      "24 20.449228286743164\n",
      "25 21.194623947143555\n",
      "26 21.495031356811523\n",
      "27 25.01914405822754\n",
      "28 25.424924850463867\n",
      "29 25.993789672851562\n",
      "30 25.610788345336914\n",
      "31 24.119897842407227\n",
      "32 22.87637710571289\n",
      "33 21.664825439453125\n",
      "34 20.328031539916992\n",
      "35 19.29500961303711\n",
      "36 17.729455947875977\n",
      "37 17.700695037841797\n",
      "38 15.965675354003906\n",
      "39 15.0931396484375\n",
      "40 14.52330207824707\n",
      "41 13.931970596313477\n",
      "42 13.765626907348633\n",
      "43 14.426069259643555\n",
      "44 15.45541000366211\n",
      "45 17.297094345092773\n",
      "46 18.751131057739258\n",
      "47 19.89547348022461\n",
      "48 23.000215530395508\n",
      "49 23.94016456604004\n",
      "50 22.11808967590332\n",
      "51 21.75973129272461\n",
      "52 20.360206604003906\n",
      "53 21.43397331237793\n",
      "54 21.58665657043457\n",
      "55 19.3017520904541\n",
      "56 18.247159957885742\n",
      "57 18.489145278930664\n",
      "58 17.500999450683594\n",
      "59 16.465335845947266\n",
      "60 17.014806747436523\n",
      "61 15.877982139587402\n",
      "62 15.104188919067383\n",
      "63 14.602118492126465\n",
      "64 14.18428897857666\n",
      "65 13.930893898010254\n",
      "66 14.62580680847168\n",
      "67 14.997594833374023\n",
      "68 17.2198429107666\n",
      "69 20.379043579101562\n",
      "70 21.677474975585938\n",
      "71 23.179431915283203\n"
     ]
    }
   ],
   "source": [
    "temperature = output[0, :, 0]*35+20\n",
    "sol_max =     output[0, :, 3]*1000+500\n",
    "sol_mean =    output[0, :, 4]*1000+500\n",
    "wind =        output[0, :, 2]*10+5\n",
    "for i, temp in enumerate(temperature):\n",
    "    print(i, temp.item())"
   ]
  },
  {
   "cell_type": "code",
   "execution_count": null,
   "id": "9a16315e",
   "metadata": {},
   "outputs": [],
   "source": []
  }
 ],
 "metadata": {
  "kernelspec": {
   "display_name": "Python 3 (ipykernel)",
   "language": "python",
   "name": "python3"
  },
  "language_info": {
   "codemirror_mode": {
    "name": "ipython",
    "version": 3
   },
   "file_extension": ".py",
   "mimetype": "text/x-python",
   "name": "python",
   "nbconvert_exporter": "python",
   "pygments_lexer": "ipython3",
   "version": "3.9.16"
  }
 },
 "nbformat": 4,
 "nbformat_minor": 5
}
