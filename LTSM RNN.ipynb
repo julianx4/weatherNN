{
 "cells": [
  {
   "cell_type": "code",
   "execution_count": 25,
   "id": "714bddae",
   "metadata": {},
   "outputs": [],
   "source": [
    "import os\n",
    "os.environ['TF_CPP_MIN_LOG_LEVEL'] = '2'\n",
    "import torch\n",
    "import torch.nn as nn\n",
    "from torch.nn import functional as F\n",
    "from itertools import groupby\n",
    "from operator import itemgetter\n",
    "import datetime\n",
    "import math\n",
    "import pandas as pd\n",
    "import numpy as np\n",
    "import pytz\n",
    "\n",
    "file1 = \"all_training_data_sorted.csv\"\n",
    "north = 'data_north_p.csv'\n",
    "east = 'data_east_p.csv'\n",
    "south = 'data_south_p.csv'\n",
    "west = 'data_west_p.csv'\n",
    "device = 'cuda'\n",
    "\n",
    "tz = pytz.timezone('Europe/Berlin')\n",
    "\n",
    "def convert_to_weeknumber_cossin(timestamp):\n",
    "    date = datetime.datetime.fromtimestamp(timestamp)\n",
    "    dt_local = date.astimezone(tz)\n",
    "    week_number = dt_local.isocalendar()[1]\n",
    "    sin_week = np.sin(2*np.pi*week_number/53).astype(np.float32)\n",
    "    cos_week = np.cos(2*np.pi*week_number/53).astype(np.float32)\n",
    "    return sin_week, cos_week\n",
    "\n",
    "def convert_to_hour_cossin(timestamp):\n",
    "    date = datetime.datetime.fromtimestamp(timestamp)\n",
    "    dt_local = date.astimezone(tz)\n",
    "    hour = dt_local.hour\n",
    "    sin_hour = np.sin(2*np.pi*hour/24).astype(np.float32)\n",
    "    cos_hour = np.cos(2*np.pi*hour/24).astype(np.float32)\n",
    "    return sin_hour, cos_hour\n",
    "\n",
    "\n",
    "def closest_timestamp(data, timestamp):\n",
    "    closest_timestamp = min(data.keys(), key=lambda t: abs(t - timestamp))\n",
    "    return data[closest_timestamp]\n",
    "\n",
    "def read_csv(file):\n",
    "    data = pd.read_csv(file)\n",
    "    for index, row in data.iterrows():\n",
    "        yield row['time'] / 1_000_000_000, row['tags'], row['min'], row['max'], row['mean'] \n",
    "\n",
    "def read_csv_meteostat(file):\n",
    "    data = pd.read_csv(file)\n",
    "    timestamp_dict = {}\n",
    "    for index, row in data.iterrows():\n",
    "        if not pd.isna(row['time']) and not pd.isna(row['pres']):\n",
    "            timestamp = row['time'] / 1_000_000_000\n",
    "            timestamp_dict[timestamp] = row['pres']                            \n",
    "    return timestamp_dict\n",
    "\n",
    "def group_column(file, north, east, south, west):\n",
    "    meteostat_data_north = read_csv_meteostat(north)\n",
    "    meteostat_data_east = read_csv_meteostat(east)\n",
    "    meteostat_data_south = read_csv_meteostat(south)\n",
    "    meteostat_data_west = read_csv_meteostat(west)\n",
    "    \n",
    "    for timestamp, values in groupby(read_csv(file), key=itemgetter(0)):\n",
    "        pres_value_north = closest_timestamp(meteostat_data_north, timestamp)\n",
    "        pres_value_east = closest_timestamp(meteostat_data_east, timestamp)\n",
    "        pres_value_south = closest_timestamp(meteostat_data_south, timestamp)\n",
    "        pres_value_west = closest_timestamp(meteostat_data_west, timestamp)\n",
    "        \n",
    "        d = {}\n",
    "        for (_, topic, value_min, value_max, value_mean) in values:\n",
    "            if not math.isnan(value_min) and not math.isnan(value_max) and not math.isnan(value_mean):\n",
    "                d[topic] = {'min': value_min, 'max': value_max, 'mean': value_mean}\n",
    "        \n",
    "        try:\n",
    "            week_values = convert_to_weeknumber_cossin(timestamp)\n",
    "            hour_values = convert_to_hour_cossin(timestamp)\n",
    "            yield (\n",
    "                (d[\"topic=Pfullingen/temperature\"]['mean'] - 20) / 35, \n",
    "                (d[\"topic=Pfullingen/hourlyrain\"]['mean']) / 10, \n",
    "                (d[\"topic=Pfullingen/windspeed\"]['mean']- 5) / 10,\n",
    "                (d[\"topic=Pfullingen/solarradiation\"]['max'] - 500) / 1000,\n",
    "                (d[\"topic=Pfullingen/solarradiation\"]['mean'] - 500) / 1000, \n",
    "                (d[\"topic=Pfullingen/pressure\"]['mean'] - 500) / 1000,\n",
    "                (d[\"topic=Pfullingen/winddir\"]['mean'] - 180) / 360,\n",
    "                (d[\"topic=Pfullingen/humidity\"]['mean'] - 50) / 100,\n",
    "                hour_values[0],\n",
    "                hour_values[1],\n",
    "                week_values[0],\n",
    "                week_values[1],\n",
    "                float((pres_value_north - 500) / 1000),\n",
    "                float((pres_value_east - 500) / 1000),\n",
    "                float((pres_value_south - 500) / 1000),\n",
    "                float((pres_value_west - 500) / 1000)\n",
    "                \n",
    "            )\n",
    "        except KeyError:\n",
    "            pass"
   ]
  },
  {
   "cell_type": "code",
   "execution_count": 137,
   "id": "0ff88692",
   "metadata": {},
   "outputs": [],
   "source": [
    "class WeatherForecast(nn.Module):\n",
    "    def __init__(self, input_features, hidden_dim, num_layers, output_dim, dropout_rate=0.0):\n",
    "        super(WeatherForecast, self).__init__()\n",
    "        self.hidden_dim = hidden_dim\n",
    "        self.num_layers = num_layers\n",
    "\n",
    "        self.lstm = nn.LSTM(input_features, hidden_dim, num_layers, batch_first=True)\n",
    "        self.dropout1 = nn.Dropout(dropout_rate)\n",
    "        self.fc = nn.Linear(hidden_dim, output_dim)\n",
    "\n",
    "    def forward(self, x):\n",
    "        h0 = torch.zeros(self.num_layers, x.size(0), self.hidden_dim).to(x.device) \n",
    "        c0 = torch.zeros(self.num_layers, x.size(0), self.hidden_dim).to(x.device)\n",
    "\n",
    "        out, _ = self.lstm(x, (h0, c0))\n",
    "        out = self.dropout1(out)\n",
    "        out = self.fc(out[:, -1, :])\n",
    "        return out"
   ]
  },
  {
   "cell_type": "code",
   "execution_count": 6,
   "id": "45e4dbcf",
   "metadata": {},
   "outputs": [],
   "source": [
    "imported_data_raw = list(group_column(file1, north, east, south, west))\n",
    "imported_data = torch.tensor(imported_data_raw)\n"
   ]
  },
  {
   "cell_type": "code",
   "execution_count": 59,
   "id": "f718dabc",
   "metadata": {},
   "outputs": [],
   "source": [
    "imported_data_backup = imported_data.clone()"
   ]
  },
  {
   "cell_type": "code",
   "execution_count": 60,
   "id": "064f5ade",
   "metadata": {},
   "outputs": [],
   "source": [
    "imported_data[:, 12] -= imported_data[:, 5]\n",
    "imported_data[:, 13] -= imported_data[:, 5]\n",
    "imported_data[:, 14] -= imported_data[:, 5]\n",
    "imported_data[:, 15] -= imported_data[:, 5]\n",
    "\n",
    "imported_data[:, 12] *= 45\n",
    "imported_data[:, 13] *= 45\n",
    "imported_data[:, 14] *= 45\n",
    "imported_data[:, 15] *= 45"
   ]
  },
  {
   "cell_type": "code",
   "execution_count": 61,
   "id": "8aab517b",
   "metadata": {},
   "outputs": [
    {
     "data": {
      "text/plain": [
       "torch.Size([18664, 16])"
      ]
     },
     "execution_count": 61,
     "metadata": {},
     "output_type": "execute_result"
    }
   ],
   "source": [
    "imported_data.shape"
   ]
  },
  {
   "cell_type": "code",
   "execution_count": 28,
   "id": "e1e8dae0",
   "metadata": {},
   "outputs": [],
   "source": [
    "def create_sequences(data, input_hours, output_hours, output_features):\n",
    "    xs = []\n",
    "    ys = []\n",
    "\n",
    "    for i in range(data.size(0)-(input_hours+output_hours)):\n",
    "        x = data[i:(i+input_hours)]\n",
    "        y = data[(i+input_hours):(i+input_hours+output_hours),:output_features]\n",
    "        xs.append(x)\n",
    "        ys.append(y)\n",
    "\n",
    "    return torch.stack(xs), torch.stack(ys).view(-1, output_hours * output_features)"
   ]
  },
  {
   "cell_type": "code",
   "execution_count": 29,
   "id": "24ec6069",
   "metadata": {},
   "outputs": [],
   "source": [
    "input_hours = 72\n",
    "input_features = 16\n",
    "output_hours = 24\n",
    "output_features = 16\n"
   ]
  },
  {
   "cell_type": "code",
   "execution_count": 62,
   "id": "e06fd679",
   "metadata": {},
   "outputs": [
    {
     "name": "stdout",
     "output_type": "stream",
     "text": [
      "torch.Size([18568, 72, 16])\n",
      "torch.Size([18568, 384])\n"
     ]
    }
   ],
   "source": [
    "X, y = create_sequences(imported_data, input_hours, output_hours, output_features)\n",
    "print(X.shape)\n",
    "print(y.shape)"
   ]
  },
  {
   "cell_type": "code",
   "execution_count": 114,
   "id": "70124042",
   "metadata": {},
   "outputs": [],
   "source": [
    "from torch.utils.data import random_split\n",
    "from torch.utils.data import TensorDataset, DataLoader\n",
    "\n",
    "# Calculate split sizes\n",
    "num_samples = len(X)\n",
    "num_train = round(num_samples * 0.8)\n",
    "num_val = num_samples - num_train\n",
    "\n",
    "# Create data sets\n",
    "train_data, val_data = random_split(TensorDataset(X, y), [num_train, num_val])\n",
    "\n",
    "batch_size = 32\n",
    "\n",
    "# Create DataLoaders\n",
    "train_loader = DataLoader(train_data, batch_size=batch_size, shuffle=False, drop_last=True)\n",
    "val_loader = DataLoader(val_data, batch_size=batch_size, shuffle=False, drop_last=True)"
   ]
  },
  {
   "cell_type": "code",
   "execution_count": 115,
   "id": "ae7d684b",
   "metadata": {},
   "outputs": [
    {
     "name": "stdout",
     "output_type": "stream",
     "text": [
      "torch.Size([32, 72, 16]) torch.Size([32, 384])\n"
     ]
    }
   ],
   "source": [
    "for inputs, labels in train_loader:\n",
    "    print(inputs.shape, labels.shape)\n",
    "    break"
   ]
  },
  {
   "cell_type": "code",
   "execution_count": 138,
   "id": "6675c742",
   "metadata": {},
   "outputs": [],
   "source": [
    "#model with LSTM\n",
    "output_dim = output_hours * output_features\n",
    "model = WeatherForecast(input_features=input_features, hidden_dim=60, num_layers=8, output_dim=output_dim).to(device)"
   ]
  },
  {
   "cell_type": "code",
   "execution_count": 155,
   "id": "66cf39f3",
   "metadata": {},
   "outputs": [
    {
     "name": "stdout",
     "output_type": "stream",
     "text": [
      "Epoch [1/10], Train Loss: 0.0010, Validation Loss: 0.0012\n",
      "Epoch [2/10], Train Loss: 0.0010, Validation Loss: 0.0012\n",
      "Epoch [3/10], Train Loss: 0.0010, Validation Loss: 0.0012\n",
      "Epoch [4/10], Train Loss: 0.0010, Validation Loss: 0.0012\n",
      "Epoch [5/10], Train Loss: 0.0010, Validation Loss: 0.0012\n",
      "Epoch [6/10], Train Loss: 0.0010, Validation Loss: 0.0012\n",
      "Epoch [7/10], Train Loss: 0.0010, Validation Loss: 0.0012\n",
      "Epoch [8/10], Train Loss: 0.0010, Validation Loss: 0.0012\n",
      "Epoch [9/10], Train Loss: 0.0010, Validation Loss: 0.0012\n",
      "Epoch [10/10], Train Loss: 0.0010, Validation Loss: 0.0012\n"
     ]
    }
   ],
   "source": [
    "#LSTM training loop\n",
    "import torch.optim as optim\n",
    "model.dropout1.p = 0.0\n",
    "num_epochs = 10\n",
    "criterion = nn.MSELoss()\n",
    "optimizer = optim.AdamW(model.parameters(), lr=1e-5)\n",
    "scheduler = torch.optim.lr_scheduler.StepLR(optimizer, step_size=int(num_epochs*.8), gamma=0.1)\n",
    "for epoch in range(num_epochs):\n",
    "    model.train()\n",
    "    for inputs, labels in train_loader:\n",
    "        inputs, labels = inputs.to(device), labels.to(device)\n",
    "\n",
    "        optimizer.zero_grad()\n",
    "        outputs = model(inputs)\n",
    "        loss = criterion(outputs, labels)\n",
    "        loss.backward()\n",
    "        optimizer.step()\n",
    "       \n",
    "    scheduler.step()\n",
    "    model.eval()\n",
    "    with torch.no_grad():\n",
    "        val_losses = []\n",
    "        for inputs, labels in val_loader:\n",
    "            inputs, labels = inputs.to(device), labels.to(device)\n",
    "            outputs = model(inputs)\n",
    "            val_loss = criterion(outputs, labels)\n",
    "            val_losses.append(val_loss.item())\n",
    "\n",
    "    avg_val_loss = sum(val_losses) / len(val_losses)\n",
    "    print('Epoch [{}/{}], Train Loss: {:.4f}, Validation Loss: {:.4f}'.format(epoch+1, num_epochs, loss.item(),avg_val_loss))\n",
    "    #best so far Train Loss: 0.0012, Validation Loss: 0.0012"
   ]
  },
  {
   "cell_type": "code",
   "execution_count": 162,
   "id": "eb0bf006",
   "metadata": {},
   "outputs": [],
   "source": [
    "file1_forecast = \"test_sorted.csv\"\n",
    "north_forecast = 'data_north_p_test_latest.csv'\n",
    "east_forecast = 'data_east_p_test_latest.csv'\n",
    "south_forecast = 'data_south_p_test_latest.csv'\n",
    "west_forecast = 'data_west_p_test_latest.csv'"
   ]
  },
  {
   "cell_type": "code",
   "execution_count": 168,
   "id": "99ebc0ad",
   "metadata": {},
   "outputs": [],
   "source": [
    "file1_forecast = \"test_before_coldfront_sorted.csv\"\n",
    "north_forecast = 'data_north_p_test_latest_before_coldfront.csv'\n",
    "east_forecast = 'data_east_p_test_latest_before_coldfront.csv'\n",
    "south_forecast = 'data_south_p_test_latest_before_coldfront.csv'\n",
    "west_forecast = 'data_west_p_test_latest_before_coldfront.csv'"
   ]
  },
  {
   "cell_type": "code",
   "execution_count": 169,
   "id": "082ded60",
   "metadata": {},
   "outputs": [
    {
     "data": {
      "text/plain": [
       "WeatherForecast(\n",
       "  (lstm): LSTM(16, 60, num_layers=8, batch_first=True)\n",
       "  (dropout1): Dropout(p=0.0, inplace=False)\n",
       "  (fc): Linear(in_features=60, out_features=384, bias=True)\n",
       ")"
      ]
     },
     "execution_count": 169,
     "metadata": {},
     "output_type": "execute_result"
    }
   ],
   "source": [
    "#forecast LSTM\n",
    "model.eval()\n",
    "test_data_raw = list(group_column(file1_forecast, north_forecast, east_forecast, south_forecast, west_forecast))\n",
    "test_data = torch.tensor(test_data_raw, device=device)\n",
    "eval_data = test_data[-input_hours:]\n",
    "eval_data = eval_data.view(1,input_hours,input_features)\n",
    "output = model(eval_data)\n",
    "model.train()"
   ]
  },
  {
   "cell_type": "code",
   "execution_count": 170,
   "id": "b35f819b",
   "metadata": {},
   "outputs": [
    {
     "data": {
      "text/plain": [
       "torch.Size([1, 72, 16])"
      ]
     },
     "execution_count": 170,
     "metadata": {},
     "output_type": "execute_result"
    }
   ],
   "source": [
    "eval_data = test_data[-input_hours:].view(1,-1,input_features)\n",
    "eval_data.shape"
   ]
  },
  {
   "cell_type": "code",
   "execution_count": 171,
   "id": "ff173a19",
   "metadata": {},
   "outputs": [
    {
     "data": {
      "text/plain": [
       "torch.Size([1, 384])"
      ]
     },
     "execution_count": 171,
     "metadata": {},
     "output_type": "execute_result"
    }
   ],
   "source": [
    "output.shape"
   ]
  },
  {
   "cell_type": "code",
   "execution_count": 172,
   "id": "beecdcd5",
   "metadata": {},
   "outputs": [],
   "source": [
    "input_temperature = eval_data.view(input_hours,16)[:,0]*35+20\n",
    "temperature = output.view(output_hours,output_features)[:,0]*35+20\n",
    "#rain = output.view(24,5)[:,1]*10\n",
    "#wind = output.view(24,5)[:,2]*10+5\n",
    "#solmax = output.view(24,5)[:,3]*1000+500\n",
    "#solmean = output.view(24,5)[:,4]*1000+500\n",
    "sin = output.view(output_hours,output_features)[:,8]\n",
    "forecast_temperature = temperature.cpu().detach().numpy()\n",
    "input_temperature = input_temperature.cpu().detach().numpy()\n",
    "sin = sin.cpu().detach().numpy()"
   ]
  },
  {
   "cell_type": "code",
   "execution_count": 173,
   "id": "b0056aba",
   "metadata": {},
   "outputs": [
    {
     "data": {
      "text/plain": [
       "Text(0, 0.5, 'Temperature')"
      ]
     },
     "execution_count": 173,
     "metadata": {},
     "output_type": "execute_result"
    },
    {
     "data": {
      "image/png": "[encoded data removed]",
      "text/plain": [
       "<Figure size 640x480 with 1 Axes>"
      ]
     },
     "metadata": {},
     "output_type": "display_data"
    }
   ],
   "source": [
    "import matplotlib.pyplot as plt\n",
    "# Generate x-axis values for the plots\n",
    "x_input = range(len(input_temperature))\n",
    "x_forecast = range(len(input_temperature), len(input_temperature) + len(forecast_temperature))\n",
    "plt.plot(x_input, input_temperature, color='blue', label='Input Temperature')\n",
    "plt.plot(x_forecast, forecast_temperature, color='red', label='Forecast Temperature')\n",
    "plt.plot(x_forecast, sin, color='red', label='Forecast Temperature')\n",
    "\n",
    "\n",
    "# Set labels and title\n",
    "plt.xlabel('Time')\n",
    "plt.ylabel('Temperature')"
   ]
  },
  {
   "cell_type": "code",
   "execution_count": null,
   "id": "d85a6c74",
   "metadata": {},
   "outputs": [],
   "source": []
  },
  {
   "cell_type": "code",
   "execution_count": null,
   "id": "30d58f50",
   "metadata": {},
   "outputs": [],
   "source": []
  }
 ],
 "metadata": {
  "kernelspec": {
   "display_name": "Python 3 (ipykernel)",
   "language": "python",
   "name": "python3"
  },
  "language_info": {
   "codemirror_mode": {
    "name": "ipython",
    "version": 3
   },
   "file_extension": ".py",
   "mimetype": "text/x-python",
   "name": "python",
   "nbconvert_exporter": "python",
   "pygments_lexer": "ipython3",
   "version": "3.9.16"
  }
 },
 "nbformat": 4,
 "nbformat_minor": 5
}
