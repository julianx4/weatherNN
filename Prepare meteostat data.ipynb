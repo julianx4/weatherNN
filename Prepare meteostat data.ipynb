{
 "cells": [
  {
   "cell_type": "code",
   "execution_count": 49,
   "id": "39dc5e98",
   "metadata": {},
   "outputs": [],
   "source": [
    "import pandas as pd\n",
    "\n",
    "data_north = pd.read_csv('data_north_p.csv')\n",
    "data_east = pd.read_csv('data_east_p.csv')\n",
    "data_south = pd.read_csv('data_south_p.csv')\n",
    "data_west = pd.read_csv('data_west_p.csv')"
   ]
  },
  {
   "cell_type": "code",
   "execution_count": 50,
   "id": "e8d7de17",
   "metadata": {},
   "outputs": [
    {
     "name": "stdout",
     "output_type": "stream",
     "text": [
      "                  time  temp  dwpt  rhum  prcp  snow   wdir  wspd  wpgt  \\\n",
      "0  1614384000000000000   1.6   0.9  95.0   0.0   NaN  289.0  11.1  18.5   \n",
      "1  1614387600000000000   1.5   0.8  95.0   0.0   NaN  288.0  11.1  18.5   \n",
      "2  1614391200000000000   1.4   0.8  96.0   0.0   NaN  287.0  11.1  18.5   \n",
      "3  1614394800000000000   1.6   0.7  94.0   0.0   NaN  285.0  11.1  18.5   \n",
      "4  1614398400000000000   1.4   0.5  94.0   0.0   NaN  289.0  11.1  18.5   \n",
      "\n",
      "     pres  tsun  coco  \n",
      "0  1036.6   NaN   4.0  \n",
      "1  1036.9   NaN   4.0  \n",
      "2  1037.0   NaN   4.0  \n",
      "3  1037.1   NaN   4.0  \n",
      "4  1037.3   NaN   4.0  \n",
      "                  time  temp  dwpt  rhum  prcp  snow   wdir  wspd  wpgt  \\\n",
      "0  1614384000000000000   7.4   1.9  68.0   0.0   NaN  148.0  12.6   NaN   \n",
      "1  1614387600000000000   7.1   2.8  74.0   0.0   NaN  149.0  10.1   NaN   \n",
      "2  1614391200000000000   7.1   2.6  73.0   0.0   NaN  146.0  10.1   NaN   \n",
      "3  1614394800000000000   6.9   2.2  72.0   0.0   NaN  145.0   9.7   NaN   \n",
      "4  1614398400000000000   6.9   2.0  71.0   0.0   NaN  149.0   9.4   NaN   \n",
      "\n",
      "     pres  tsun  coco  \n",
      "0  1024.8   NaN   NaN  \n",
      "1  1024.4   NaN   NaN  \n",
      "2  1023.6   NaN   NaN  \n",
      "3  1023.0   NaN   NaN  \n",
      "4  1022.9   NaN   NaN  \n"
     ]
    }
   ],
   "source": [
    "print(data_north[:5])\n",
    "print(data_south[:5])"
   ]
  },
  {
   "cell_type": "code",
   "execution_count": null,
   "id": "8c5f7961",
   "metadata": {},
   "outputs": [],
   "source": [
    "def group_column(file):\n",
    "    for timestamp, values in groupby(read_csv(file), key=itemgetter(0)):\n",
    "        d = {}\n",
    "        for (time,temp,dwpt,rhum,prcp,snow,wdir,wspd,wpgt,pres,tsun,coco) in values:\n",
    "            if not math.isnan(pres):\n",
    "                d[topic] = {'min': value_min, 'max': value_max, 'mean': value_mean}\n",
    "        \n",
    "        try:\n",
    "            week_values = convert_to_weeknumber_cossin(timestamp)\n",
    "            hour_values = convert_to_hour_cossin(timestamp)\n",
    "            yield (\n",
    "                (d[\"topic=Pfullingen/temperature\"]['mean'] - 20) / 35, \n",
    "                (d[\"topic=Pfullingen/hourlyrain\"]['mean']) / 10, \n",
    "                (d[\"topic=Pfullingen/windspeed\"]['mean']- 5) / 10,\n",
    "                (d[\"topic=Pfullingen/solarradiation\"]['max'] - 500) / 1000,\n",
    "                (d[\"topic=Pfullingen/solarradiation\"]['mean'] - 500) / 1000, \n",
    "                (d[\"topic=Pfullingen/pressure\"]['mean'] - 500) / 1000,\n",
    "                (d[\"topic=Pfullingen/winddir\"]['mean'] - 180) / 360,\n",
    "                (d[\"topic=Pfullingen/humidity\"]['mean'] - 50) / 100,\n",
    "                hour_values[0],\n",
    "                hour_values[1],\n",
    "                week_values[0],\n",
    "                week_values[1],\n",
    "            )\n",
    "        except KeyError:\n",
    "            pass"
   ]
  },
  {
   "cell_type": "code",
   "execution_count": null,
   "id": "6c455ca2",
   "metadata": {},
   "outputs": [],
   "source": [
    "imported_data_raw = list(group_column(file))"
   ]
  }
 ],
 "metadata": {
  "kernelspec": {
   "display_name": "Python 3 (ipykernel)",
   "language": "python",
   "name": "python3"
  },
  "language_info": {
   "codemirror_mode": {
    "name": "ipython",
    "version": 3
   },
   "file_extension": ".py",
   "mimetype": "text/x-python",
   "name": "python",
   "nbconvert_exporter": "python",
   "pygments_lexer": "ipython3",
   "version": "3.9.16"
  }
 },
 "nbformat": 4,
 "nbformat_minor": 5
}
